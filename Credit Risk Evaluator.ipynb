{
 "cells": [
  {
   "cell_type": "markdown",
   "metadata": {},
   "source": [
    "# Supervised Learning Exercise\n",
    "In this notebook, I will be analyzing information from Lending Club. The data procured have been undersampled to give an even number of high risk and low risk loans."
   ]
  },
  {
   "cell_type": "code",
   "execution_count": 1,
   "metadata": {},
   "outputs": [],
   "source": [
    "import numpy as np\n",
    "import pandas as pd\n",
    "from pathlib import Path"
   ]
  },
  {
   "cell_type": "code",
   "execution_count": 2,
   "metadata": {},
   "outputs": [],
   "source": [
    "train_df = pd.read_csv(Path('Resources/2019loans.csv'))\n",
    "test_df = pd.read_csv(Path('Resources/2020Q1loans.csv'))"
   ]
  },
  {
   "cell_type": "code",
   "execution_count": 3,
   "metadata": {},
   "outputs": [
    {
     "data": {
      "text/plain": [
       "86"
      ]
     },
     "execution_count": 3,
     "metadata": {},
     "output_type": "execute_result"
    }
   ],
   "source": [
    "len(train_df.columns)"
   ]
  },
  {
   "cell_type": "code",
   "execution_count": 4,
   "metadata": {},
   "outputs": [
    {
     "data": {
      "text/plain": [
       "{dtype('int64'), dtype('float64'), dtype('O')}"
      ]
     },
     "execution_count": 4,
     "metadata": {},
     "output_type": "execute_result"
    }
   ],
   "source": [
    "set(train_df.dtypes)"
   ]
  },
  {
   "cell_type": "markdown",
   "metadata": {},
   "source": [
    "# Data Cleaning"
   ]
  },
  {
   "cell_type": "code",
   "execution_count": 5,
   "metadata": {},
   "outputs": [],
   "source": [
    "# Convert categorical data to numeric and separate target feature for training data\n",
    "X_train = train_df.copy()\n",
    "cat_columns = []\n",
    "for col, dtype in zip(train_df.columns, train_df.dtypes):\n",
    "    if dtype == 'object':\n",
    "        cat_columns.append(col)\n",
    "        new_dummies = pd.get_dummies(train_df[col], prefix=col)\n",
    "        X_train.drop(columns=[col], inplace=True)\n",
    "        X_train = pd.concat([X_train, new_dummies], axis=1)    "
   ]
  },
  {
   "cell_type": "code",
   "execution_count": 6,
   "metadata": {},
   "outputs": [],
   "source": [
    "# Convert categorical data to numeric and separate target feature for testing\n",
    "test_num = test_df.copy()\n",
    "test_cat = []\n",
    "for col, dtype in zip(test_df.columns, test_df.dtypes):\n",
    "    if dtype == 'object':\n",
    "        cat_columns.append(col)\n",
    "        new_dummies = pd.get_dummies(test_df[col], prefix=col)\n",
    "        test_num.drop(columns=[col], inplace=True)\n",
    "        test_num = pd.concat([test_num, new_dummies], axis=1) "
   ]
  },
  {
   "cell_type": "code",
   "execution_count": 7,
   "metadata": {},
   "outputs": [
    {
     "data": {
      "text/plain": [
       "{'debt_settlement_flag_Y'}"
      ]
     },
     "execution_count": 7,
     "metadata": {},
     "output_type": "execute_result"
    }
   ],
   "source": [
    "set(X_train.columns) - set(test_num.columns)"
   ]
  },
  {
   "cell_type": "code",
   "execution_count": 8,
   "metadata": {},
   "outputs": [],
   "source": [
    "X_train.drop(columns = ['debt_settlement_flag_Y'], inplace=True)"
   ]
  },
  {
   "cell_type": "code",
   "execution_count": 9,
   "metadata": {},
   "outputs": [
    {
     "data": {
      "text/plain": [
       "Index(['Unnamed: 0', 'index', 'loan_amnt', 'int_rate', 'installment',\n",
       "       'annual_inc', 'dti', 'delinq_2yrs', 'inq_last_6mths', 'open_acc',\n",
       "       'pub_rec', 'revol_bal', 'total_acc', 'out_prncp', 'out_prncp_inv',\n",
       "       'total_pymnt', 'total_pymnt_inv', 'total_rec_prncp', 'total_rec_int',\n",
       "       'total_rec_late_fee', 'recoveries', 'collection_recovery_fee',\n",
       "       'last_pymnt_amnt', 'collections_12_mths_ex_med', 'policy_code',\n",
       "       'acc_now_delinq', 'tot_coll_amt', 'tot_cur_bal', 'open_acc_6m',\n",
       "       'open_act_il', 'open_il_12m', 'open_il_24m', 'mths_since_rcnt_il',\n",
       "       'total_bal_il', 'il_util', 'open_rv_12m', 'open_rv_24m', 'max_bal_bc',\n",
       "       'all_util', 'total_rev_hi_lim', 'inq_fi', 'total_cu_tl', 'inq_last_12m',\n",
       "       'acc_open_past_24mths', 'avg_cur_bal', 'bc_open_to_buy', 'bc_util',\n",
       "       'chargeoff_within_12_mths', 'delinq_amnt', 'mo_sin_old_il_acct',\n",
       "       'mo_sin_old_rev_tl_op', 'mo_sin_rcnt_rev_tl_op', 'mo_sin_rcnt_tl',\n",
       "       'mort_acc', 'mths_since_recent_bc', 'mths_since_recent_inq',\n",
       "       'num_accts_ever_120_pd', 'num_actv_bc_tl', 'num_actv_rev_tl',\n",
       "       'num_bc_sats', 'num_bc_tl', 'num_il_tl', 'num_op_rev_tl',\n",
       "       'num_rev_accts', 'num_rev_tl_bal_gt_0', 'num_sats', 'num_tl_120dpd_2m',\n",
       "       'num_tl_30dpd', 'num_tl_90g_dpd_24m', 'num_tl_op_past_12m',\n",
       "       'pct_tl_nvr_dlq', 'percent_bc_gt_75', 'pub_rec_bankruptcies',\n",
       "       'tax_liens', 'tot_hi_cred_lim', 'total_bal_ex_mort', 'total_bc_limit',\n",
       "       'total_il_high_credit_limit', 'home_ownership_ANY',\n",
       "       'home_ownership_MORTGAGE', 'home_ownership_OWN', 'home_ownership_RENT',\n",
       "       'verification_status_Not Verified',\n",
       "       'verification_status_Source Verified', 'verification_status_Verified',\n",
       "       'loan_status_high_risk', 'loan_status_low_risk', 'pymnt_plan_n',\n",
       "       'initial_list_status_f', 'initial_list_status_w',\n",
       "       'application_type_Individual', 'application_type_Joint App',\n",
       "       'hardship_flag_N', 'hardship_flag_Y', 'debt_settlement_flag_N'],\n",
       "      dtype='object')"
      ]
     },
     "execution_count": 9,
     "metadata": {},
     "output_type": "execute_result"
    }
   ],
   "source": [
    "X_train.columns"
   ]
  },
  {
   "cell_type": "markdown",
   "metadata": {},
   "source": [
    "# Data Analysis\n",
    "\n",
    "I will be performing both logistic regression and random forest classification. It is my current belief that logistic regression will generate a better model, because I have a data set with a huge number of dimensions. I worry that this will lead random forest to overfitting."
   ]
  },
  {
   "cell_type": "code",
   "execution_count": 10,
   "metadata": {},
   "outputs": [],
   "source": [
    "#Split off the Target Columns\n",
    "target_train = X_train['loan_status_high_risk'].copy()\n",
    "X_train.drop(columns=['loan_status_high_risk', 'loan_status_low_risk'], inplace=True)\n",
    "target_test = test_num['loan_status_high_risk'].copy()\n",
    "test_num.drop(columns=['loan_status_high_risk', 'loan_status_low_risk'], inplace=True)"
   ]
  },
  {
   "cell_type": "code",
   "execution_count": 15,
   "metadata": {},
   "outputs": [
    {
     "name": "stderr",
     "output_type": "stream",
     "text": [
      "C:\\Users\\Alexander Saunders\\anaconda3\\lib\\site-packages\\sklearn\\linear_model\\_logistic.py:763: ConvergenceWarning: lbfgs failed to converge (status=1):\n",
      "STOP: TOTAL NO. of ITERATIONS REACHED LIMIT.\n",
      "\n",
      "Increase the number of iterations (max_iter) or scale the data as shown in:\n",
      "    https://scikit-learn.org/stable/modules/preprocessing.html\n",
      "Please also refer to the documentation for alternative solver options:\n",
      "    https://scikit-learn.org/stable/modules/linear_model.html#logistic-regression\n",
      "  n_iter_i = _check_optimize_result(\n"
     ]
    },
    {
     "data": {
      "text/plain": [
       "0.5859208847299021"
      ]
     },
     "execution_count": 15,
     "metadata": {},
     "output_type": "execute_result"
    }
   ],
   "source": [
    "# Train the Logistic Regression model on the unscaled data and print the model score\n",
    "from sklearn.linear_model import LogisticRegression\n",
    "lr = LogisticRegression(max_iter=1000, random_state=42)\n",
    "lr.fit(X_train, target_train)\n",
    "lr.score(test_num, target_test)"
   ]
  },
  {
   "cell_type": "markdown",
   "metadata": {},
   "source": [
    "Above, the logistic model is not performing very well. This is likely because the data has not been scaled - I will return to this later to see if scaling yields better results."
   ]
  },
  {
   "cell_type": "code",
   "execution_count": 17,
   "metadata": {},
   "outputs": [
    {
     "data": {
      "text/plain": [
       "0.6020842194810719"
      ]
     },
     "execution_count": 17,
     "metadata": {},
     "output_type": "execute_result"
    }
   ],
   "source": [
    "# Train a Random Forest Classifier model and print the model score\n",
    "from sklearn.ensemble import RandomForestClassifier\n",
    "rfc = RandomForestClassifier(random_state=42)\n",
    "rfc.fit(X_train, target_train)\n",
    "rfc.score(test_num, target_test)"
   ]
  },
  {
   "cell_type": "markdown",
   "metadata": {},
   "source": [
    "As of right now, our random forest model is outperforming our logistic regression model. However, the regression model has as of yet failed to converge. I was not expecting to see random forest outperform logistic regression here, but I believe that it's small edge may be because it is able to more easily process the large number of dimensions. However, after scaling both data sets, i will tune their paramaters to determine which might produce a better model once optomized"
   ]
  },
  {
   "cell_type": "markdown",
   "metadata": {},
   "source": [
    "# Scaled Data Analysis"
   ]
  },
  {
   "cell_type": "code",
   "execution_count": 20,
   "metadata": {},
   "outputs": [],
   "source": [
    "# Scale the data\n",
    "from sklearn.preprocessing import StandardScaler\n",
    "scaler = StandardScaler().fit(X_train)\n",
    "X_train_scaled = scaler.transform(X_train)\n",
    "test_scaled = scaler.transform(test_num)"
   ]
  },
  {
   "cell_type": "code",
   "execution_count": 23,
   "metadata": {},
   "outputs": [
    {
     "name": "stdout",
     "output_type": "stream",
     "text": [
      "Training Score: 0.7127257799671592\n",
      "Testing Score: 0.7203317737133135\n"
     ]
    }
   ],
   "source": [
    "# Train the Logistic Regression model on the scaled data and print the model score\n",
    "lr = LogisticRegression(max_iter=1000, random_state=42)\n",
    "lr.fit(X_train_scaled, target_train)\n",
    "lr.score(test_scaled, target_test)\n",
    "print(f'Training Score: {lr.score(X_train_scaled, target_train)}')\n",
    "print(f'Testing Score: {lr.score(test_scaled, target_test)}')"
   ]
  },
  {
   "cell_type": "markdown",
   "metadata": {},
   "source": [
    "This is a result I feel very positive about. It does not show any evidence of overfitting, while still getting a reasonably strong accuracy."
   ]
  },
  {
   "cell_type": "code",
   "execution_count": 24,
   "metadata": {},
   "outputs": [
    {
     "name": "stdout",
     "output_type": "stream",
     "text": [
      "Training Score: 1.0\n",
      "Testing Score: 0.6014461931093151\n"
     ]
    }
   ],
   "source": [
    "# Train a Random Forest Classifier model on the scaled data and print the model score\n",
    "rfc = RandomForestClassifier(random_state=42)\n",
    "rfc.fit(X_train_scaled, target_train)\n",
    "rfc.score(test_scaled, target_test)\n",
    "print(f'Training Score: {rfc.score(X_train_scaled, target_train)}')\n",
    "print(f'Testing Score: {rfc.score(test_scaled, target_test)}')"
   ]
  },
  {
   "cell_type": "markdown",
   "metadata": {},
   "source": [
    "Here we see that the random forest classifier has done what I expected and severely overfit the data. In fact, our testing score is nearly exactly what we achieved with unscaled data. This suggests to me that even without scaling the data, random forest had overfit the data to an extreme."
   ]
  },
  {
   "cell_type": "markdown",
   "metadata": {},
   "source": [
    "# Tuned Data Analysis\n",
    "I will now be performing two grid searches to find the best set of paramaters that I can use to remedy the problems that these models are facing."
   ]
  },
  {
   "cell_type": "code",
   "execution_count": 32,
   "metadata": {},
   "outputs": [],
   "source": [
    "from sklearn.model_selection import GridSearchCV\n",
    "\n",
    "lr_param_grid = {\n",
    "    'solver': ['lbfgs', 'liblinear', 'sag', 'saga'],\n",
    "    'max_iter': [100, 300, 500, 1000],\n",
    "}\n",
    "\n",
    "rfc_param_grid = {\n",
    "    'n_estimators': [10, 30, 50, 100, 500],\n",
    "    'max_depth': [2, 3, 4, 5, 7, 10, None],\n",
    "    #I include 1/3 to see if random forest performs better pretending to be doing a regression task.\n",
    "    'max_features': ['auto', 'sqrt', 1/3, None]\n",
    "}"
   ]
  },
  {
   "cell_type": "code",
   "execution_count": 33,
   "metadata": {},
   "outputs": [],
   "source": [
    "lr = LogisticRegression()\n",
    "rfc = RandomForestClassifier()\n",
    "grid_lr = GridSearchCV(lr, lr_param_grid, verbose=3)\n",
    "grid_rfc = GridSearchCV(rfc, rfc_param_grid, verbose = 3)"
   ]
  },
  {
   "cell_type": "code",
   "execution_count": 29,
   "metadata": {},
   "outputs": [
    {
     "name": "stdout",
     "output_type": "stream",
     "text": [
      "Fitting 5 folds for each of 16 candidates, totalling 80 fits\n"
     ]
    },
    {
     "name": "stderr",
     "output_type": "stream",
     "text": [
      "C:\\Users\\Alexander Saunders\\anaconda3\\lib\\site-packages\\sklearn\\linear_model\\_logistic.py:763: ConvergenceWarning: lbfgs failed to converge (status=1):\n",
      "STOP: TOTAL NO. of ITERATIONS REACHED LIMIT.\n",
      "\n",
      "Increase the number of iterations (max_iter) or scale the data as shown in:\n",
      "    https://scikit-learn.org/stable/modules/preprocessing.html\n",
      "Please also refer to the documentation for alternative solver options:\n",
      "    https://scikit-learn.org/stable/modules/linear_model.html#logistic-regression\n",
      "  n_iter_i = _check_optimize_result(\n"
     ]
    },
    {
     "name": "stdout",
     "output_type": "stream",
     "text": [
      "[CV 1/5] END .....................max_iter=100, solver=lbfgs; total time=   0.1s\n"
     ]
    },
    {
     "name": "stderr",
     "output_type": "stream",
     "text": [
      "C:\\Users\\Alexander Saunders\\anaconda3\\lib\\site-packages\\sklearn\\linear_model\\_logistic.py:763: ConvergenceWarning: lbfgs failed to converge (status=1):\n",
      "STOP: TOTAL NO. of ITERATIONS REACHED LIMIT.\n",
      "\n",
      "Increase the number of iterations (max_iter) or scale the data as shown in:\n",
      "    https://scikit-learn.org/stable/modules/preprocessing.html\n",
      "Please also refer to the documentation for alternative solver options:\n",
      "    https://scikit-learn.org/stable/modules/linear_model.html#logistic-regression\n",
      "  n_iter_i = _check_optimize_result(\n"
     ]
    },
    {
     "name": "stdout",
     "output_type": "stream",
     "text": [
      "[CV 2/5] END .....................max_iter=100, solver=lbfgs; total time=   0.1s\n"
     ]
    },
    {
     "name": "stderr",
     "output_type": "stream",
     "text": [
      "C:\\Users\\Alexander Saunders\\anaconda3\\lib\\site-packages\\sklearn\\linear_model\\_logistic.py:763: ConvergenceWarning: lbfgs failed to converge (status=1):\n",
      "STOP: TOTAL NO. of ITERATIONS REACHED LIMIT.\n",
      "\n",
      "Increase the number of iterations (max_iter) or scale the data as shown in:\n",
      "    https://scikit-learn.org/stable/modules/preprocessing.html\n",
      "Please also refer to the documentation for alternative solver options:\n",
      "    https://scikit-learn.org/stable/modules/linear_model.html#logistic-regression\n",
      "  n_iter_i = _check_optimize_result(\n"
     ]
    },
    {
     "name": "stdout",
     "output_type": "stream",
     "text": [
      "[CV 3/5] END .....................max_iter=100, solver=lbfgs; total time=   0.1s\n"
     ]
    },
    {
     "name": "stderr",
     "output_type": "stream",
     "text": [
      "C:\\Users\\Alexander Saunders\\anaconda3\\lib\\site-packages\\sklearn\\linear_model\\_logistic.py:763: ConvergenceWarning: lbfgs failed to converge (status=1):\n",
      "STOP: TOTAL NO. of ITERATIONS REACHED LIMIT.\n",
      "\n",
      "Increase the number of iterations (max_iter) or scale the data as shown in:\n",
      "    https://scikit-learn.org/stable/modules/preprocessing.html\n",
      "Please also refer to the documentation for alternative solver options:\n",
      "    https://scikit-learn.org/stable/modules/linear_model.html#logistic-regression\n",
      "  n_iter_i = _check_optimize_result(\n"
     ]
    },
    {
     "name": "stdout",
     "output_type": "stream",
     "text": [
      "[CV 4/5] END .....................max_iter=100, solver=lbfgs; total time=   0.2s\n"
     ]
    },
    {
     "name": "stderr",
     "output_type": "stream",
     "text": [
      "C:\\Users\\Alexander Saunders\\anaconda3\\lib\\site-packages\\sklearn\\linear_model\\_logistic.py:763: ConvergenceWarning: lbfgs failed to converge (status=1):\n",
      "STOP: TOTAL NO. of ITERATIONS REACHED LIMIT.\n",
      "\n",
      "Increase the number of iterations (max_iter) or scale the data as shown in:\n",
      "    https://scikit-learn.org/stable/modules/preprocessing.html\n",
      "Please also refer to the documentation for alternative solver options:\n",
      "    https://scikit-learn.org/stable/modules/linear_model.html#logistic-regression\n",
      "  n_iter_i = _check_optimize_result(\n"
     ]
    },
    {
     "name": "stdout",
     "output_type": "stream",
     "text": [
      "[CV 5/5] END .....................max_iter=100, solver=lbfgs; total time=   0.2s\n",
      "[CV 1/5] END .................max_iter=100, solver=liblinear; total time=   0.8s\n",
      "[CV 2/5] END .................max_iter=100, solver=liblinear; total time=   0.7s\n",
      "[CV 3/5] END .................max_iter=100, solver=liblinear; total time=   0.7s\n",
      "[CV 4/5] END .................max_iter=100, solver=liblinear; total time=   0.8s\n",
      "[CV 5/5] END .................max_iter=100, solver=liblinear; total time=   0.8s\n"
     ]
    },
    {
     "name": "stderr",
     "output_type": "stream",
     "text": [
      "C:\\Users\\Alexander Saunders\\anaconda3\\lib\\site-packages\\sklearn\\linear_model\\_sag.py:328: ConvergenceWarning: The max_iter was reached which means the coef_ did not converge\n",
      "  warnings.warn(\"The max_iter was reached which means \"\n"
     ]
    },
    {
     "name": "stdout",
     "output_type": "stream",
     "text": [
      "[CV 1/5] END .......................max_iter=100, solver=sag; total time=   0.8s\n"
     ]
    },
    {
     "name": "stderr",
     "output_type": "stream",
     "text": [
      "C:\\Users\\Alexander Saunders\\anaconda3\\lib\\site-packages\\sklearn\\linear_model\\_sag.py:328: ConvergenceWarning: The max_iter was reached which means the coef_ did not converge\n",
      "  warnings.warn(\"The max_iter was reached which means \"\n"
     ]
    },
    {
     "name": "stdout",
     "output_type": "stream",
     "text": [
      "[CV 2/5] END .......................max_iter=100, solver=sag; total time=   0.8s\n"
     ]
    },
    {
     "name": "stderr",
     "output_type": "stream",
     "text": [
      "C:\\Users\\Alexander Saunders\\anaconda3\\lib\\site-packages\\sklearn\\linear_model\\_sag.py:328: ConvergenceWarning: The max_iter was reached which means the coef_ did not converge\n",
      "  warnings.warn(\"The max_iter was reached which means \"\n"
     ]
    },
    {
     "name": "stdout",
     "output_type": "stream",
     "text": [
      "[CV 3/5] END .......................max_iter=100, solver=sag; total time=   0.8s\n"
     ]
    },
    {
     "name": "stderr",
     "output_type": "stream",
     "text": [
      "C:\\Users\\Alexander Saunders\\anaconda3\\lib\\site-packages\\sklearn\\linear_model\\_sag.py:328: ConvergenceWarning: The max_iter was reached which means the coef_ did not converge\n",
      "  warnings.warn(\"The max_iter was reached which means \"\n"
     ]
    },
    {
     "name": "stdout",
     "output_type": "stream",
     "text": [
      "[CV 4/5] END .......................max_iter=100, solver=sag; total time=   0.8s\n"
     ]
    },
    {
     "name": "stderr",
     "output_type": "stream",
     "text": [
      "C:\\Users\\Alexander Saunders\\anaconda3\\lib\\site-packages\\sklearn\\linear_model\\_sag.py:328: ConvergenceWarning: The max_iter was reached which means the coef_ did not converge\n",
      "  warnings.warn(\"The max_iter was reached which means \"\n"
     ]
    },
    {
     "name": "stdout",
     "output_type": "stream",
     "text": [
      "[CV 5/5] END .......................max_iter=100, solver=sag; total time=   0.8s\n"
     ]
    },
    {
     "name": "stderr",
     "output_type": "stream",
     "text": [
      "C:\\Users\\Alexander Saunders\\anaconda3\\lib\\site-packages\\sklearn\\linear_model\\_sag.py:328: ConvergenceWarning: The max_iter was reached which means the coef_ did not converge\n",
      "  warnings.warn(\"The max_iter was reached which means \"\n"
     ]
    },
    {
     "name": "stdout",
     "output_type": "stream",
     "text": [
      "[CV 1/5] END ......................max_iter=100, solver=saga; total time=   1.0s\n"
     ]
    },
    {
     "name": "stderr",
     "output_type": "stream",
     "text": [
      "C:\\Users\\Alexander Saunders\\anaconda3\\lib\\site-packages\\sklearn\\linear_model\\_sag.py:328: ConvergenceWarning: The max_iter was reached which means the coef_ did not converge\n",
      "  warnings.warn(\"The max_iter was reached which means \"\n"
     ]
    },
    {
     "name": "stdout",
     "output_type": "stream",
     "text": [
      "[CV 2/5] END ......................max_iter=100, solver=saga; total time=   1.0s\n"
     ]
    },
    {
     "name": "stderr",
     "output_type": "stream",
     "text": [
      "C:\\Users\\Alexander Saunders\\anaconda3\\lib\\site-packages\\sklearn\\linear_model\\_sag.py:328: ConvergenceWarning: The max_iter was reached which means the coef_ did not converge\n",
      "  warnings.warn(\"The max_iter was reached which means \"\n"
     ]
    },
    {
     "name": "stdout",
     "output_type": "stream",
     "text": [
      "[CV 3/5] END ......................max_iter=100, solver=saga; total time=   1.0s\n"
     ]
    },
    {
     "name": "stderr",
     "output_type": "stream",
     "text": [
      "C:\\Users\\Alexander Saunders\\anaconda3\\lib\\site-packages\\sklearn\\linear_model\\_sag.py:328: ConvergenceWarning: The max_iter was reached which means the coef_ did not converge\n",
      "  warnings.warn(\"The max_iter was reached which means \"\n"
     ]
    },
    {
     "name": "stdout",
     "output_type": "stream",
     "text": [
      "[CV 4/5] END ......................max_iter=100, solver=saga; total time=   1.0s\n"
     ]
    },
    {
     "name": "stderr",
     "output_type": "stream",
     "text": [
      "C:\\Users\\Alexander Saunders\\anaconda3\\lib\\site-packages\\sklearn\\linear_model\\_sag.py:328: ConvergenceWarning: The max_iter was reached which means the coef_ did not converge\n",
      "  warnings.warn(\"The max_iter was reached which means \"\n"
     ]
    },
    {
     "name": "stdout",
     "output_type": "stream",
     "text": [
      "[CV 5/5] END ......................max_iter=100, solver=saga; total time=   1.0s\n",
      "[CV 1/5] END .....................max_iter=300, solver=lbfgs; total time=   0.4s\n",
      "[CV 2/5] END .....................max_iter=300, solver=lbfgs; total time=   0.4s\n",
      "[CV 3/5] END .....................max_iter=300, solver=lbfgs; total time=   0.4s\n",
      "[CV 4/5] END .....................max_iter=300, solver=lbfgs; total time=   0.4s\n",
      "[CV 5/5] END .....................max_iter=300, solver=lbfgs; total time=   0.5s\n",
      "[CV 1/5] END .................max_iter=300, solver=liblinear; total time=   0.7s\n",
      "[CV 2/5] END .................max_iter=300, solver=liblinear; total time=   0.7s\n",
      "[CV 3/5] END .................max_iter=300, solver=liblinear; total time=   0.7s\n",
      "[CV 4/5] END .................max_iter=300, solver=liblinear; total time=   0.8s\n",
      "[CV 5/5] END .................max_iter=300, solver=liblinear; total time=   0.8s\n"
     ]
    },
    {
     "name": "stderr",
     "output_type": "stream",
     "text": [
      "C:\\Users\\Alexander Saunders\\anaconda3\\lib\\site-packages\\sklearn\\linear_model\\_sag.py:328: ConvergenceWarning: The max_iter was reached which means the coef_ did not converge\n",
      "  warnings.warn(\"The max_iter was reached which means \"\n"
     ]
    },
    {
     "name": "stdout",
     "output_type": "stream",
     "text": [
      "[CV 1/5] END .......................max_iter=300, solver=sag; total time=   2.6s\n"
     ]
    },
    {
     "name": "stderr",
     "output_type": "stream",
     "text": [
      "C:\\Users\\Alexander Saunders\\anaconda3\\lib\\site-packages\\sklearn\\linear_model\\_sag.py:328: ConvergenceWarning: The max_iter was reached which means the coef_ did not converge\n",
      "  warnings.warn(\"The max_iter was reached which means \"\n"
     ]
    },
    {
     "name": "stdout",
     "output_type": "stream",
     "text": [
      "[CV 2/5] END .......................max_iter=300, solver=sag; total time=   2.6s\n"
     ]
    },
    {
     "name": "stderr",
     "output_type": "stream",
     "text": [
      "C:\\Users\\Alexander Saunders\\anaconda3\\lib\\site-packages\\sklearn\\linear_model\\_sag.py:328: ConvergenceWarning: The max_iter was reached which means the coef_ did not converge\n",
      "  warnings.warn(\"The max_iter was reached which means \"\n"
     ]
    },
    {
     "name": "stdout",
     "output_type": "stream",
     "text": [
      "[CV 3/5] END .......................max_iter=300, solver=sag; total time=   2.6s\n"
     ]
    },
    {
     "name": "stderr",
     "output_type": "stream",
     "text": [
      "C:\\Users\\Alexander Saunders\\anaconda3\\lib\\site-packages\\sklearn\\linear_model\\_sag.py:328: ConvergenceWarning: The max_iter was reached which means the coef_ did not converge\n",
      "  warnings.warn(\"The max_iter was reached which means \"\n"
     ]
    },
    {
     "name": "stdout",
     "output_type": "stream",
     "text": [
      "[CV 4/5] END .......................max_iter=300, solver=sag; total time=   2.6s\n"
     ]
    },
    {
     "name": "stderr",
     "output_type": "stream",
     "text": [
      "C:\\Users\\Alexander Saunders\\anaconda3\\lib\\site-packages\\sklearn\\linear_model\\_sag.py:328: ConvergenceWarning: The max_iter was reached which means the coef_ did not converge\n",
      "  warnings.warn(\"The max_iter was reached which means \"\n"
     ]
    },
    {
     "name": "stdout",
     "output_type": "stream",
     "text": [
      "[CV 5/5] END .......................max_iter=300, solver=sag; total time=   2.6s\n"
     ]
    },
    {
     "name": "stderr",
     "output_type": "stream",
     "text": [
      "C:\\Users\\Alexander Saunders\\anaconda3\\lib\\site-packages\\sklearn\\linear_model\\_sag.py:328: ConvergenceWarning: The max_iter was reached which means the coef_ did not converge\n",
      "  warnings.warn(\"The max_iter was reached which means \"\n"
     ]
    },
    {
     "name": "stdout",
     "output_type": "stream",
     "text": [
      "[CV 1/5] END ......................max_iter=300, solver=saga; total time=   3.1s\n"
     ]
    },
    {
     "name": "stderr",
     "output_type": "stream",
     "text": [
      "C:\\Users\\Alexander Saunders\\anaconda3\\lib\\site-packages\\sklearn\\linear_model\\_sag.py:328: ConvergenceWarning: The max_iter was reached which means the coef_ did not converge\n",
      "  warnings.warn(\"The max_iter was reached which means \"\n"
     ]
    },
    {
     "name": "stdout",
     "output_type": "stream",
     "text": [
      "[CV 2/5] END ......................max_iter=300, solver=saga; total time=   3.1s\n"
     ]
    },
    {
     "name": "stderr",
     "output_type": "stream",
     "text": [
      "C:\\Users\\Alexander Saunders\\anaconda3\\lib\\site-packages\\sklearn\\linear_model\\_sag.py:328: ConvergenceWarning: The max_iter was reached which means the coef_ did not converge\n",
      "  warnings.warn(\"The max_iter was reached which means \"\n"
     ]
    },
    {
     "name": "stdout",
     "output_type": "stream",
     "text": [
      "[CV 3/5] END ......................max_iter=300, solver=saga; total time=   3.1s\n"
     ]
    },
    {
     "name": "stderr",
     "output_type": "stream",
     "text": [
      "C:\\Users\\Alexander Saunders\\anaconda3\\lib\\site-packages\\sklearn\\linear_model\\_sag.py:328: ConvergenceWarning: The max_iter was reached which means the coef_ did not converge\n",
      "  warnings.warn(\"The max_iter was reached which means \"\n"
     ]
    },
    {
     "name": "stdout",
     "output_type": "stream",
     "text": [
      "[CV 4/5] END ......................max_iter=300, solver=saga; total time=   3.1s\n"
     ]
    },
    {
     "name": "stderr",
     "output_type": "stream",
     "text": [
      "C:\\Users\\Alexander Saunders\\anaconda3\\lib\\site-packages\\sklearn\\linear_model\\_sag.py:328: ConvergenceWarning: The max_iter was reached which means the coef_ did not converge\n",
      "  warnings.warn(\"The max_iter was reached which means \"\n"
     ]
    },
    {
     "name": "stdout",
     "output_type": "stream",
     "text": [
      "[CV 5/5] END ......................max_iter=300, solver=saga; total time=   3.3s\n",
      "[CV 1/5] END .....................max_iter=500, solver=lbfgs; total time=   0.4s\n",
      "[CV 2/5] END .....................max_iter=500, solver=lbfgs; total time=   0.4s\n",
      "[CV 3/5] END .....................max_iter=500, solver=lbfgs; total time=   0.4s\n",
      "[CV 4/5] END .....................max_iter=500, solver=lbfgs; total time=   0.4s\n",
      "[CV 5/5] END .....................max_iter=500, solver=lbfgs; total time=   0.5s\n",
      "[CV 1/5] END .................max_iter=500, solver=liblinear; total time=   0.7s\n",
      "[CV 2/5] END .................max_iter=500, solver=liblinear; total time=   0.8s\n",
      "[CV 3/5] END .................max_iter=500, solver=liblinear; total time=   0.7s\n",
      "[CV 4/5] END .................max_iter=500, solver=liblinear; total time=   0.8s\n",
      "[CV 5/5] END .................max_iter=500, solver=liblinear; total time=   0.8s\n"
     ]
    },
    {
     "name": "stderr",
     "output_type": "stream",
     "text": [
      "C:\\Users\\Alexander Saunders\\anaconda3\\lib\\site-packages\\sklearn\\linear_model\\_sag.py:328: ConvergenceWarning: The max_iter was reached which means the coef_ did not converge\n",
      "  warnings.warn(\"The max_iter was reached which means \"\n"
     ]
    },
    {
     "name": "stdout",
     "output_type": "stream",
     "text": [
      "[CV 1/5] END .......................max_iter=500, solver=sag; total time=   4.3s\n"
     ]
    },
    {
     "name": "stderr",
     "output_type": "stream",
     "text": [
      "C:\\Users\\Alexander Saunders\\anaconda3\\lib\\site-packages\\sklearn\\linear_model\\_sag.py:328: ConvergenceWarning: The max_iter was reached which means the coef_ did not converge\n",
      "  warnings.warn(\"The max_iter was reached which means \"\n"
     ]
    },
    {
     "name": "stdout",
     "output_type": "stream",
     "text": [
      "[CV 2/5] END .......................max_iter=500, solver=sag; total time=   4.4s\n"
     ]
    },
    {
     "name": "stderr",
     "output_type": "stream",
     "text": [
      "C:\\Users\\Alexander Saunders\\anaconda3\\lib\\site-packages\\sklearn\\linear_model\\_sag.py:328: ConvergenceWarning: The max_iter was reached which means the coef_ did not converge\n",
      "  warnings.warn(\"The max_iter was reached which means \"\n"
     ]
    },
    {
     "name": "stdout",
     "output_type": "stream",
     "text": [
      "[CV 3/5] END .......................max_iter=500, solver=sag; total time=   4.4s\n"
     ]
    },
    {
     "name": "stderr",
     "output_type": "stream",
     "text": [
      "C:\\Users\\Alexander Saunders\\anaconda3\\lib\\site-packages\\sklearn\\linear_model\\_sag.py:328: ConvergenceWarning: The max_iter was reached which means the coef_ did not converge\n",
      "  warnings.warn(\"The max_iter was reached which means \"\n"
     ]
    },
    {
     "name": "stdout",
     "output_type": "stream",
     "text": [
      "[CV 4/5] END .......................max_iter=500, solver=sag; total time=   4.5s\n"
     ]
    },
    {
     "name": "stderr",
     "output_type": "stream",
     "text": [
      "C:\\Users\\Alexander Saunders\\anaconda3\\lib\\site-packages\\sklearn\\linear_model\\_sag.py:328: ConvergenceWarning: The max_iter was reached which means the coef_ did not converge\n",
      "  warnings.warn(\"The max_iter was reached which means \"\n"
     ]
    },
    {
     "name": "stdout",
     "output_type": "stream",
     "text": [
      "[CV 5/5] END .......................max_iter=500, solver=sag; total time=   4.4s\n"
     ]
    },
    {
     "name": "stderr",
     "output_type": "stream",
     "text": [
      "C:\\Users\\Alexander Saunders\\anaconda3\\lib\\site-packages\\sklearn\\linear_model\\_sag.py:328: ConvergenceWarning: The max_iter was reached which means the coef_ did not converge\n",
      "  warnings.warn(\"The max_iter was reached which means \"\n"
     ]
    },
    {
     "name": "stdout",
     "output_type": "stream",
     "text": [
      "[CV 1/5] END ......................max_iter=500, solver=saga; total time=   5.3s\n"
     ]
    },
    {
     "name": "stderr",
     "output_type": "stream",
     "text": [
      "C:\\Users\\Alexander Saunders\\anaconda3\\lib\\site-packages\\sklearn\\linear_model\\_sag.py:328: ConvergenceWarning: The max_iter was reached which means the coef_ did not converge\n",
      "  warnings.warn(\"The max_iter was reached which means \"\n"
     ]
    },
    {
     "name": "stdout",
     "output_type": "stream",
     "text": [
      "[CV 2/5] END ......................max_iter=500, solver=saga; total time=   5.2s\n"
     ]
    },
    {
     "name": "stderr",
     "output_type": "stream",
     "text": [
      "C:\\Users\\Alexander Saunders\\anaconda3\\lib\\site-packages\\sklearn\\linear_model\\_sag.py:328: ConvergenceWarning: The max_iter was reached which means the coef_ did not converge\n",
      "  warnings.warn(\"The max_iter was reached which means \"\n"
     ]
    },
    {
     "name": "stdout",
     "output_type": "stream",
     "text": [
      "[CV 3/5] END ......................max_iter=500, solver=saga; total time=   5.4s\n"
     ]
    },
    {
     "name": "stderr",
     "output_type": "stream",
     "text": [
      "C:\\Users\\Alexander Saunders\\anaconda3\\lib\\site-packages\\sklearn\\linear_model\\_sag.py:328: ConvergenceWarning: The max_iter was reached which means the coef_ did not converge\n",
      "  warnings.warn(\"The max_iter was reached which means \"\n"
     ]
    },
    {
     "name": "stdout",
     "output_type": "stream",
     "text": [
      "[CV 4/5] END ......................max_iter=500, solver=saga; total time=   5.3s\n"
     ]
    },
    {
     "name": "stderr",
     "output_type": "stream",
     "text": [
      "C:\\Users\\Alexander Saunders\\anaconda3\\lib\\site-packages\\sklearn\\linear_model\\_sag.py:328: ConvergenceWarning: The max_iter was reached which means the coef_ did not converge\n",
      "  warnings.warn(\"The max_iter was reached which means \"\n"
     ]
    },
    {
     "name": "stdout",
     "output_type": "stream",
     "text": [
      "[CV 5/5] END ......................max_iter=500, solver=saga; total time=   5.2s\n",
      "[CV 1/5] END ....................max_iter=1000, solver=lbfgs; total time=   0.4s\n",
      "[CV 2/5] END ....................max_iter=1000, solver=lbfgs; total time=   0.4s\n",
      "[CV 3/5] END ....................max_iter=1000, solver=lbfgs; total time=   0.4s\n",
      "[CV 4/5] END ....................max_iter=1000, solver=lbfgs; total time=   0.4s\n",
      "[CV 5/5] END ....................max_iter=1000, solver=lbfgs; total time=   0.5s\n",
      "[CV 1/5] END ................max_iter=1000, solver=liblinear; total time=   0.7s\n",
      "[CV 2/5] END ................max_iter=1000, solver=liblinear; total time=   0.7s\n",
      "[CV 3/5] END ................max_iter=1000, solver=liblinear; total time=   0.7s\n",
      "[CV 4/5] END ................max_iter=1000, solver=liblinear; total time=   0.8s\n",
      "[CV 5/5] END ................max_iter=1000, solver=liblinear; total time=   0.8s\n"
     ]
    },
    {
     "name": "stderr",
     "output_type": "stream",
     "text": [
      "C:\\Users\\Alexander Saunders\\anaconda3\\lib\\site-packages\\sklearn\\linear_model\\_sag.py:328: ConvergenceWarning: The max_iter was reached which means the coef_ did not converge\n",
      "  warnings.warn(\"The max_iter was reached which means \"\n"
     ]
    },
    {
     "name": "stdout",
     "output_type": "stream",
     "text": [
      "[CV 1/5] END ......................max_iter=1000, solver=sag; total time=   8.7s\n"
     ]
    },
    {
     "name": "stderr",
     "output_type": "stream",
     "text": [
      "C:\\Users\\Alexander Saunders\\anaconda3\\lib\\site-packages\\sklearn\\linear_model\\_sag.py:328: ConvergenceWarning: The max_iter was reached which means the coef_ did not converge\n",
      "  warnings.warn(\"The max_iter was reached which means \"\n"
     ]
    },
    {
     "name": "stdout",
     "output_type": "stream",
     "text": [
      "[CV 2/5] END ......................max_iter=1000, solver=sag; total time=   8.9s\n"
     ]
    },
    {
     "name": "stderr",
     "output_type": "stream",
     "text": [
      "C:\\Users\\Alexander Saunders\\anaconda3\\lib\\site-packages\\sklearn\\linear_model\\_sag.py:328: ConvergenceWarning: The max_iter was reached which means the coef_ did not converge\n",
      "  warnings.warn(\"The max_iter was reached which means \"\n"
     ]
    },
    {
     "name": "stdout",
     "output_type": "stream",
     "text": [
      "[CV 3/5] END ......................max_iter=1000, solver=sag; total time=   8.8s\n"
     ]
    },
    {
     "name": "stderr",
     "output_type": "stream",
     "text": [
      "C:\\Users\\Alexander Saunders\\anaconda3\\lib\\site-packages\\sklearn\\linear_model\\_sag.py:328: ConvergenceWarning: The max_iter was reached which means the coef_ did not converge\n",
      "  warnings.warn(\"The max_iter was reached which means \"\n"
     ]
    },
    {
     "name": "stdout",
     "output_type": "stream",
     "text": [
      "[CV 4/5] END ......................max_iter=1000, solver=sag; total time=   8.9s\n"
     ]
    },
    {
     "name": "stderr",
     "output_type": "stream",
     "text": [
      "C:\\Users\\Alexander Saunders\\anaconda3\\lib\\site-packages\\sklearn\\linear_model\\_sag.py:328: ConvergenceWarning: The max_iter was reached which means the coef_ did not converge\n",
      "  warnings.warn(\"The max_iter was reached which means \"\n"
     ]
    },
    {
     "name": "stdout",
     "output_type": "stream",
     "text": [
      "[CV 5/5] END ......................max_iter=1000, solver=sag; total time=   8.8s\n"
     ]
    },
    {
     "name": "stderr",
     "output_type": "stream",
     "text": [
      "C:\\Users\\Alexander Saunders\\anaconda3\\lib\\site-packages\\sklearn\\linear_model\\_sag.py:328: ConvergenceWarning: The max_iter was reached which means the coef_ did not converge\n",
      "  warnings.warn(\"The max_iter was reached which means \"\n"
     ]
    },
    {
     "name": "stdout",
     "output_type": "stream",
     "text": [
      "[CV 1/5] END .....................max_iter=1000, solver=saga; total time=  10.6s\n"
     ]
    },
    {
     "name": "stderr",
     "output_type": "stream",
     "text": [
      "C:\\Users\\Alexander Saunders\\anaconda3\\lib\\site-packages\\sklearn\\linear_model\\_sag.py:328: ConvergenceWarning: The max_iter was reached which means the coef_ did not converge\n",
      "  warnings.warn(\"The max_iter was reached which means \"\n"
     ]
    },
    {
     "name": "stdout",
     "output_type": "stream",
     "text": [
      "[CV 2/5] END .....................max_iter=1000, solver=saga; total time=  10.6s\n",
      "[CV 3/5] END .....................max_iter=1000, solver=saga; total time=   8.4s\n"
     ]
    },
    {
     "name": "stderr",
     "output_type": "stream",
     "text": [
      "C:\\Users\\Alexander Saunders\\anaconda3\\lib\\site-packages\\sklearn\\linear_model\\_sag.py:328: ConvergenceWarning: The max_iter was reached which means the coef_ did not converge\n",
      "  warnings.warn(\"The max_iter was reached which means \"\n"
     ]
    },
    {
     "name": "stdout",
     "output_type": "stream",
     "text": [
      "[CV 4/5] END .....................max_iter=1000, solver=saga; total time=  10.6s\n"
     ]
    },
    {
     "name": "stderr",
     "output_type": "stream",
     "text": [
      "C:\\Users\\Alexander Saunders\\anaconda3\\lib\\site-packages\\sklearn\\linear_model\\_sag.py:328: ConvergenceWarning: The max_iter was reached which means the coef_ did not converge\n",
      "  warnings.warn(\"The max_iter was reached which means \"\n"
     ]
    },
    {
     "name": "stdout",
     "output_type": "stream",
     "text": [
      "[CV 5/5] END .....................max_iter=1000, solver=saga; total time=  10.7s\n"
     ]
    },
    {
     "name": "stderr",
     "output_type": "stream",
     "text": [
      "C:\\Users\\Alexander Saunders\\anaconda3\\lib\\site-packages\\sklearn\\linear_model\\_logistic.py:763: ConvergenceWarning: lbfgs failed to converge (status=1):\n",
      "STOP: TOTAL NO. of ITERATIONS REACHED LIMIT.\n",
      "\n",
      "Increase the number of iterations (max_iter) or scale the data as shown in:\n",
      "    https://scikit-learn.org/stable/modules/preprocessing.html\n",
      "Please also refer to the documentation for alternative solver options:\n",
      "    https://scikit-learn.org/stable/modules/linear_model.html#logistic-regression\n",
      "  n_iter_i = _check_optimize_result(\n"
     ]
    },
    {
     "data": {
      "text/plain": [
       "GridSearchCV(estimator=LogisticRegression(),\n",
       "             param_grid={'max_iter': [100, 300, 500, 1000],\n",
       "                         'solver': ['lbfgs', 'liblinear', 'sag', 'saga']},\n",
       "             verbose=3)"
      ]
     },
     "execution_count": 29,
     "metadata": {},
     "output_type": "execute_result"
    }
   ],
   "source": [
    "grid_lr.fit(X_train_scaled, target_train)"
   ]
  },
  {
   "cell_type": "code",
   "execution_count": 30,
   "metadata": {},
   "outputs": [
    {
     "data": {
      "text/plain": [
       "{'max_iter': 100, 'solver': 'lbfgs'}"
      ]
     },
     "execution_count": 30,
     "metadata": {},
     "output_type": "execute_result"
    }
   ],
   "source": [
    "grid_lr.best_params_"
   ]
  },
  {
   "cell_type": "markdown",
   "metadata": {},
   "source": [
    "We can see that the best model found by grid search on our scaled data was in fact the default paramaters used by scikit learn for linear regression. "
   ]
  },
  {
   "cell_type": "code",
   "execution_count": 34,
   "metadata": {},
   "outputs": [
    {
     "name": "stdout",
     "output_type": "stream",
     "text": [
      "Fitting 5 folds for each of 140 candidates, totalling 700 fits\n",
      "[CV 1/5] END max_depth=2, max_features=auto, n_estimators=10; total time=   0.0s\n",
      "[CV 2/5] END max_depth=2, max_features=auto, n_estimators=10; total time=   0.0s\n",
      "[CV 3/5] END max_depth=2, max_features=auto, n_estimators=10; total time=   0.0s\n",
      "[CV 4/5] END max_depth=2, max_features=auto, n_estimators=10; total time=   0.0s\n",
      "[CV 5/5] END max_depth=2, max_features=auto, n_estimators=10; total time=   0.0s\n",
      "[CV 1/5] END max_depth=2, max_features=auto, n_estimators=30; total time=   0.1s\n",
      "[CV 2/5] END max_depth=2, max_features=auto, n_estimators=30; total time=   0.1s\n",
      "[CV 3/5] END max_depth=2, max_features=auto, n_estimators=30; total time=   0.2s\n",
      "[CV 4/5] END max_depth=2, max_features=auto, n_estimators=30; total time=   0.2s\n",
      "[CV 5/5] END max_depth=2, max_features=auto, n_estimators=30; total time=   0.2s\n",
      "[CV 1/5] END max_depth=2, max_features=auto, n_estimators=50; total time=   0.3s\n",
      "[CV 2/5] END max_depth=2, max_features=auto, n_estimators=50; total time=   0.3s\n",
      "[CV 3/5] END max_depth=2, max_features=auto, n_estimators=50; total time=   0.3s\n",
      "[CV 4/5] END max_depth=2, max_features=auto, n_estimators=50; total time=   0.3s\n",
      "[CV 5/5] END max_depth=2, max_features=auto, n_estimators=50; total time=   0.3s\n",
      "[CV 1/5] END max_depth=2, max_features=auto, n_estimators=100; total time=   0.7s\n",
      "[CV 2/5] END max_depth=2, max_features=auto, n_estimators=100; total time=   0.8s\n",
      "[CV 3/5] END max_depth=2, max_features=auto, n_estimators=100; total time=   0.7s\n",
      "[CV 4/5] END max_depth=2, max_features=auto, n_estimators=100; total time=   0.7s\n",
      "[CV 5/5] END max_depth=2, max_features=auto, n_estimators=100; total time=   0.7s\n",
      "[CV 1/5] END max_depth=2, max_features=auto, n_estimators=500; total time=   4.0s\n",
      "[CV 2/5] END max_depth=2, max_features=auto, n_estimators=500; total time=   4.0s\n",
      "[CV 3/5] END max_depth=2, max_features=auto, n_estimators=500; total time=   4.1s\n",
      "[CV 4/5] END max_depth=2, max_features=auto, n_estimators=500; total time=   4.1s\n",
      "[CV 5/5] END max_depth=2, max_features=auto, n_estimators=500; total time=   4.0s\n",
      "[CV 1/5] END max_depth=2, max_features=sqrt, n_estimators=10; total time=   0.0s\n",
      "[CV 2/5] END max_depth=2, max_features=sqrt, n_estimators=10; total time=   0.0s\n",
      "[CV 3/5] END max_depth=2, max_features=sqrt, n_estimators=10; total time=   0.0s\n",
      "[CV 4/5] END max_depth=2, max_features=sqrt, n_estimators=10; total time=   0.0s\n",
      "[CV 5/5] END max_depth=2, max_features=sqrt, n_estimators=10; total time=   0.0s\n",
      "[CV 1/5] END max_depth=2, max_features=sqrt, n_estimators=30; total time=   0.1s\n",
      "[CV 2/5] END max_depth=2, max_features=sqrt, n_estimators=30; total time=   0.2s\n",
      "[CV 3/5] END max_depth=2, max_features=sqrt, n_estimators=30; total time=   0.2s\n",
      "[CV 4/5] END max_depth=2, max_features=sqrt, n_estimators=30; total time=   0.2s\n",
      "[CV 5/5] END max_depth=2, max_features=sqrt, n_estimators=30; total time=   0.2s\n",
      "[CV 1/5] END max_depth=2, max_features=sqrt, n_estimators=50; total time=   0.3s\n",
      "[CV 2/5] END max_depth=2, max_features=sqrt, n_estimators=50; total time=   0.3s\n",
      "[CV 3/5] END max_depth=2, max_features=sqrt, n_estimators=50; total time=   0.3s\n",
      "[CV 4/5] END max_depth=2, max_features=sqrt, n_estimators=50; total time=   0.3s\n",
      "[CV 5/5] END max_depth=2, max_features=sqrt, n_estimators=50; total time=   0.3s\n",
      "[CV 1/5] END max_depth=2, max_features=sqrt, n_estimators=100; total time=   0.7s\n",
      "[CV 2/5] END max_depth=2, max_features=sqrt, n_estimators=100; total time=   0.7s\n",
      "[CV 3/5] END max_depth=2, max_features=sqrt, n_estimators=100; total time=   0.7s\n",
      "[CV 4/5] END max_depth=2, max_features=sqrt, n_estimators=100; total time=   0.7s\n",
      "[CV 5/5] END max_depth=2, max_features=sqrt, n_estimators=100; total time=   0.7s\n",
      "[CV 1/5] END max_depth=2, max_features=sqrt, n_estimators=500; total time=   4.0s\n",
      "[CV 2/5] END max_depth=2, max_features=sqrt, n_estimators=500; total time=   4.1s\n",
      "[CV 3/5] END max_depth=2, max_features=sqrt, n_estimators=500; total time=   4.0s\n",
      "[CV 4/5] END max_depth=2, max_features=sqrt, n_estimators=500; total time=   4.0s\n",
      "[CV 5/5] END max_depth=2, max_features=sqrt, n_estimators=500; total time=   4.0s\n",
      "[CV 1/5] END max_depth=2, max_features=0.3333333333333333, n_estimators=10; total time=   0.1s\n",
      "[CV 2/5] END max_depth=2, max_features=0.3333333333333333, n_estimators=10; total time=   0.1s\n",
      "[CV 3/5] END max_depth=2, max_features=0.3333333333333333, n_estimators=10; total time=   0.1s\n",
      "[CV 4/5] END max_depth=2, max_features=0.3333333333333333, n_estimators=10; total time=   0.1s\n",
      "[CV 5/5] END max_depth=2, max_features=0.3333333333333333, n_estimators=10; total time=   0.1s\n",
      "[CV 1/5] END max_depth=2, max_features=0.3333333333333333, n_estimators=30; total time=   0.5s\n",
      "[CV 2/5] END max_depth=2, max_features=0.3333333333333333, n_estimators=30; total time=   0.5s\n",
      "[CV 3/5] END max_depth=2, max_features=0.3333333333333333, n_estimators=30; total time=   0.5s\n",
      "[CV 4/5] END max_depth=2, max_features=0.3333333333333333, n_estimators=30; total time=   0.5s\n",
      "[CV 5/5] END max_depth=2, max_features=0.3333333333333333, n_estimators=30; total time=   0.5s\n",
      "[CV 1/5] END max_depth=2, max_features=0.3333333333333333, n_estimators=50; total time=   1.0s\n",
      "[CV 2/5] END max_depth=2, max_features=0.3333333333333333, n_estimators=50; total time=   1.0s\n",
      "[CV 3/5] END max_depth=2, max_features=0.3333333333333333, n_estimators=50; total time=   1.0s\n",
      "[CV 4/5] END max_depth=2, max_features=0.3333333333333333, n_estimators=50; total time=   1.0s\n",
      "[CV 5/5] END max_depth=2, max_features=0.3333333333333333, n_estimators=50; total time=   1.0s\n",
      "[CV 1/5] END max_depth=2, max_features=0.3333333333333333, n_estimators=100; total time=   2.0s\n",
      "[CV 2/5] END max_depth=2, max_features=0.3333333333333333, n_estimators=100; total time=   2.0s\n",
      "[CV 3/5] END max_depth=2, max_features=0.3333333333333333, n_estimators=100; total time=   2.1s\n",
      "[CV 4/5] END max_depth=2, max_features=0.3333333333333333, n_estimators=100; total time=   2.1s\n",
      "[CV 5/5] END max_depth=2, max_features=0.3333333333333333, n_estimators=100; total time=   2.0s\n",
      "[CV 1/5] END max_depth=2, max_features=0.3333333333333333, n_estimators=500; total time=  10.2s\n",
      "[CV 2/5] END max_depth=2, max_features=0.3333333333333333, n_estimators=500; total time=  10.6s\n",
      "[CV 3/5] END max_depth=2, max_features=0.3333333333333333, n_estimators=500; total time=  10.4s\n",
      "[CV 4/5] END max_depth=2, max_features=0.3333333333333333, n_estimators=500; total time=  10.4s\n",
      "[CV 5/5] END max_depth=2, max_features=0.3333333333333333, n_estimators=500; total time=  10.3s\n",
      "[CV 1/5] END max_depth=2, max_features=None, n_estimators=10; total time=   0.5s\n",
      "[CV 2/5] END max_depth=2, max_features=None, n_estimators=10; total time=   0.5s\n",
      "[CV 3/5] END max_depth=2, max_features=None, n_estimators=10; total time=   0.5s\n",
      "[CV 4/5] END max_depth=2, max_features=None, n_estimators=10; total time=   0.5s\n",
      "[CV 5/5] END max_depth=2, max_features=None, n_estimators=10; total time=   0.5s\n",
      "[CV 1/5] END max_depth=2, max_features=None, n_estimators=30; total time=   1.5s\n",
      "[CV 2/5] END max_depth=2, max_features=None, n_estimators=30; total time=   1.6s\n",
      "[CV 3/5] END max_depth=2, max_features=None, n_estimators=30; total time=   1.6s\n",
      "[CV 4/5] END max_depth=2, max_features=None, n_estimators=30; total time=   1.6s\n",
      "[CV 5/5] END max_depth=2, max_features=None, n_estimators=30; total time=   1.6s\n",
      "[CV 1/5] END max_depth=2, max_features=None, n_estimators=50; total time=   2.6s\n",
      "[CV 2/5] END max_depth=2, max_features=None, n_estimators=50; total time=   2.8s\n",
      "[CV 3/5] END max_depth=2, max_features=None, n_estimators=50; total time=   2.8s\n",
      "[CV 4/5] END max_depth=2, max_features=None, n_estimators=50; total time=   2.8s\n",
      "[CV 5/5] END max_depth=2, max_features=None, n_estimators=50; total time=   2.8s\n",
      "[CV 1/5] END max_depth=2, max_features=None, n_estimators=100; total time=   5.2s\n",
      "[CV 2/5] END max_depth=2, max_features=None, n_estimators=100; total time=   5.6s\n",
      "[CV 3/5] END max_depth=2, max_features=None, n_estimators=100; total time=   5.6s\n",
      "[CV 4/5] END max_depth=2, max_features=None, n_estimators=100; total time=   5.6s\n",
      "[CV 5/5] END max_depth=2, max_features=None, n_estimators=100; total time=   5.6s\n",
      "[CV 1/5] END max_depth=2, max_features=None, n_estimators=500; total time=  26.6s\n",
      "[CV 2/5] END max_depth=2, max_features=None, n_estimators=500; total time=  28.6s\n",
      "[CV 3/5] END max_depth=2, max_features=None, n_estimators=500; total time=  28.2s\n",
      "[CV 4/5] END max_depth=2, max_features=None, n_estimators=500; total time=  28.5s\n",
      "[CV 5/5] END max_depth=2, max_features=None, n_estimators=500; total time=  28.0s\n",
      "[CV 1/5] END max_depth=3, max_features=auto, n_estimators=10; total time=   0.0s\n",
      "[CV 2/5] END max_depth=3, max_features=auto, n_estimators=10; total time=   0.0s\n",
      "[CV 3/5] END max_depth=3, max_features=auto, n_estimators=10; total time=   0.0s\n",
      "[CV 4/5] END max_depth=3, max_features=auto, n_estimators=10; total time=   0.0s\n",
      "[CV 5/5] END max_depth=3, max_features=auto, n_estimators=10; total time=   0.0s\n",
      "[CV 1/5] END max_depth=3, max_features=auto, n_estimators=30; total time=   0.2s\n",
      "[CV 2/5] END max_depth=3, max_features=auto, n_estimators=30; total time=   0.2s\n",
      "[CV 3/5] END max_depth=3, max_features=auto, n_estimators=30; total time=   0.2s\n",
      "[CV 4/5] END max_depth=3, max_features=auto, n_estimators=30; total time=   0.2s\n",
      "[CV 5/5] END max_depth=3, max_features=auto, n_estimators=30; total time=   0.2s\n",
      "[CV 1/5] END max_depth=3, max_features=auto, n_estimators=50; total time=   0.4s\n",
      "[CV 2/5] END max_depth=3, max_features=auto, n_estimators=50; total time=   0.5s\n",
      "[CV 3/5] END max_depth=3, max_features=auto, n_estimators=50; total time=   0.4s\n",
      "[CV 4/5] END max_depth=3, max_features=auto, n_estimators=50; total time=   0.4s\n",
      "[CV 5/5] END max_depth=3, max_features=auto, n_estimators=50; total time=   0.4s\n",
      "[CV 1/5] END max_depth=3, max_features=auto, n_estimators=100; total time=   0.9s\n",
      "[CV 2/5] END max_depth=3, max_features=auto, n_estimators=100; total time=   1.0s\n",
      "[CV 3/5] END max_depth=3, max_features=auto, n_estimators=100; total time=   1.0s\n",
      "[CV 4/5] END max_depth=3, max_features=auto, n_estimators=100; total time=   1.0s\n",
      "[CV 5/5] END max_depth=3, max_features=auto, n_estimators=100; total time=   1.0s\n",
      "[CV 1/5] END max_depth=3, max_features=auto, n_estimators=500; total time=   5.3s\n",
      "[CV 2/5] END max_depth=3, max_features=auto, n_estimators=500; total time=   5.3s\n",
      "[CV 3/5] END max_depth=3, max_features=auto, n_estimators=500; total time=   5.3s\n",
      "[CV 4/5] END max_depth=3, max_features=auto, n_estimators=500; total time=   5.3s\n",
      "[CV 5/5] END max_depth=3, max_features=auto, n_estimators=500; total time=   5.2s\n",
      "[CV 1/5] END max_depth=3, max_features=sqrt, n_estimators=10; total time=   0.0s\n",
      "[CV 2/5] END max_depth=3, max_features=sqrt, n_estimators=10; total time=   0.0s\n",
      "[CV 3/5] END max_depth=3, max_features=sqrt, n_estimators=10; total time=   0.0s\n",
      "[CV 4/5] END max_depth=3, max_features=sqrt, n_estimators=10; total time=   0.0s\n",
      "[CV 5/5] END max_depth=3, max_features=sqrt, n_estimators=10; total time=   0.0s\n",
      "[CV 1/5] END max_depth=3, max_features=sqrt, n_estimators=30; total time=   0.2s\n",
      "[CV 2/5] END max_depth=3, max_features=sqrt, n_estimators=30; total time=   0.2s\n",
      "[CV 3/5] END max_depth=3, max_features=sqrt, n_estimators=30; total time=   0.2s\n",
      "[CV 4/5] END max_depth=3, max_features=sqrt, n_estimators=30; total time=   0.2s\n",
      "[CV 5/5] END max_depth=3, max_features=sqrt, n_estimators=30; total time=   0.2s\n",
      "[CV 1/5] END max_depth=3, max_features=sqrt, n_estimators=50; total time=   0.4s\n",
      "[CV 2/5] END max_depth=3, max_features=sqrt, n_estimators=50; total time=   0.4s\n",
      "[CV 3/5] END max_depth=3, max_features=sqrt, n_estimators=50; total time=   0.5s\n",
      "[CV 4/5] END max_depth=3, max_features=sqrt, n_estimators=50; total time=   0.4s\n",
      "[CV 5/5] END max_depth=3, max_features=sqrt, n_estimators=50; total time=   0.5s\n",
      "[CV 1/5] END max_depth=3, max_features=sqrt, n_estimators=100; total time=   1.0s\n",
      "[CV 2/5] END max_depth=3, max_features=sqrt, n_estimators=100; total time=   1.0s\n",
      "[CV 3/5] END max_depth=3, max_features=sqrt, n_estimators=100; total time=   1.0s\n",
      "[CV 4/5] END max_depth=3, max_features=sqrt, n_estimators=100; total time=   1.0s\n",
      "[CV 5/5] END max_depth=3, max_features=sqrt, n_estimators=100; total time=   1.0s\n",
      "[CV 1/5] END max_depth=3, max_features=sqrt, n_estimators=500; total time=   5.2s\n",
      "[CV 2/5] END max_depth=3, max_features=sqrt, n_estimators=500; total time=   5.4s\n",
      "[CV 3/5] END max_depth=3, max_features=sqrt, n_estimators=500; total time=   5.3s\n",
      "[CV 4/5] END max_depth=3, max_features=sqrt, n_estimators=500; total time=   5.4s\n",
      "[CV 5/5] END max_depth=3, max_features=sqrt, n_estimators=500; total time=   5.3s\n",
      "[CV 1/5] END max_depth=3, max_features=0.3333333333333333, n_estimators=10; total time=   0.2s\n",
      "[CV 2/5] END max_depth=3, max_features=0.3333333333333333, n_estimators=10; total time=   0.2s\n",
      "[CV 3/5] END max_depth=3, max_features=0.3333333333333333, n_estimators=10; total time=   0.2s\n",
      "[CV 4/5] END max_depth=3, max_features=0.3333333333333333, n_estimators=10; total time=   0.2s\n",
      "[CV 5/5] END max_depth=3, max_features=0.3333333333333333, n_estimators=10; total time=   0.2s\n",
      "[CV 1/5] END max_depth=3, max_features=0.3333333333333333, n_estimators=30; total time=   0.7s\n",
      "[CV 2/5] END max_depth=3, max_features=0.3333333333333333, n_estimators=30; total time=   0.8s\n",
      "[CV 3/5] END max_depth=3, max_features=0.3333333333333333, n_estimators=30; total time=   0.8s\n",
      "[CV 4/5] END max_depth=3, max_features=0.3333333333333333, n_estimators=30; total time=   0.8s\n",
      "[CV 5/5] END max_depth=3, max_features=0.3333333333333333, n_estimators=30; total time=   0.8s\n",
      "[CV 1/5] END max_depth=3, max_features=0.3333333333333333, n_estimators=50; total time=   1.3s\n",
      "[CV 2/5] END max_depth=3, max_features=0.3333333333333333, n_estimators=50; total time=   1.4s\n",
      "[CV 3/5] END max_depth=3, max_features=0.3333333333333333, n_estimators=50; total time=   1.4s\n",
      "[CV 4/5] END max_depth=3, max_features=0.3333333333333333, n_estimators=50; total time=   1.4s\n",
      "[CV 5/5] END max_depth=3, max_features=0.3333333333333333, n_estimators=50; total time=   1.4s\n",
      "[CV 1/5] END max_depth=3, max_features=0.3333333333333333, n_estimators=100; total time=   2.7s\n",
      "[CV 2/5] END max_depth=3, max_features=0.3333333333333333, n_estimators=100; total time=   2.8s\n",
      "[CV 3/5] END max_depth=3, max_features=0.3333333333333333, n_estimators=100; total time=   2.9s\n",
      "[CV 4/5] END max_depth=3, max_features=0.3333333333333333, n_estimators=100; total time=   2.9s\n",
      "[CV 5/5] END max_depth=3, max_features=0.3333333333333333, n_estimators=100; total time=   2.8s\n",
      "[CV 1/5] END max_depth=3, max_features=0.3333333333333333, n_estimators=500; total time=  14.0s\n",
      "[CV 2/5] END max_depth=3, max_features=0.3333333333333333, n_estimators=500; total time=  14.8s\n",
      "[CV 3/5] END max_depth=3, max_features=0.3333333333333333, n_estimators=500; total time=  14.9s\n",
      "[CV 4/5] END max_depth=3, max_features=0.3333333333333333, n_estimators=500; total time=  14.8s\n",
      "[CV 5/5] END max_depth=3, max_features=0.3333333333333333, n_estimators=500; total time=  14.5s\n",
      "[CV 1/5] END max_depth=3, max_features=None, n_estimators=10; total time=   0.6s\n",
      "[CV 2/5] END max_depth=3, max_features=None, n_estimators=10; total time=   0.7s\n",
      "[CV 3/5] END max_depth=3, max_features=None, n_estimators=10; total time=   0.7s\n",
      "[CV 4/5] END max_depth=3, max_features=None, n_estimators=10; total time=   0.7s\n",
      "[CV 5/5] END max_depth=3, max_features=None, n_estimators=10; total time=   0.7s\n",
      "[CV 1/5] END max_depth=3, max_features=None, n_estimators=30; total time=   2.1s\n",
      "[CV 2/5] END max_depth=3, max_features=None, n_estimators=30; total time=   2.4s\n",
      "[CV 3/5] END max_depth=3, max_features=None, n_estimators=30; total time=   2.4s\n",
      "[CV 4/5] END max_depth=3, max_features=None, n_estimators=30; total time=   2.4s\n",
      "[CV 5/5] END max_depth=3, max_features=None, n_estimators=30; total time=   2.3s\n",
      "[CV 1/5] END max_depth=3, max_features=None, n_estimators=50; total time=   3.6s\n",
      "[CV 2/5] END max_depth=3, max_features=None, n_estimators=50; total time=   4.0s\n",
      "[CV 3/5] END max_depth=3, max_features=None, n_estimators=50; total time=   4.0s\n",
      "[CV 4/5] END max_depth=3, max_features=None, n_estimators=50; total time=   4.0s\n",
      "[CV 5/5] END max_depth=3, max_features=None, n_estimators=50; total time=   4.0s\n",
      "[CV 1/5] END max_depth=3, max_features=None, n_estimators=100; total time=   7.3s\n",
      "[CV 2/5] END max_depth=3, max_features=None, n_estimators=100; total time=   8.1s\n",
      "[CV 3/5] END max_depth=3, max_features=None, n_estimators=100; total time=   8.2s\n",
      "[CV 4/5] END max_depth=3, max_features=None, n_estimators=100; total time=   8.1s\n",
      "[CV 5/5] END max_depth=3, max_features=None, n_estimators=100; total time=   8.2s\n",
      "[CV 1/5] END max_depth=3, max_features=None, n_estimators=500; total time=  37.0s\n",
      "[CV 2/5] END max_depth=3, max_features=None, n_estimators=500; total time=  40.7s\n",
      "[CV 3/5] END max_depth=3, max_features=None, n_estimators=500; total time=  40.9s\n",
      "[CV 4/5] END max_depth=3, max_features=None, n_estimators=500; total time=  40.7s\n",
      "[CV 5/5] END max_depth=3, max_features=None, n_estimators=500; total time=  40.4s\n",
      "[CV 1/5] END max_depth=4, max_features=auto, n_estimators=10; total time=   0.0s\n",
      "[CV 2/5] END max_depth=4, max_features=auto, n_estimators=10; total time=   0.0s\n",
      "[CV 3/5] END max_depth=4, max_features=auto, n_estimators=10; total time=   0.0s\n",
      "[CV 4/5] END max_depth=4, max_features=auto, n_estimators=10; total time=   0.0s\n",
      "[CV 5/5] END max_depth=4, max_features=auto, n_estimators=10; total time=   0.0s\n",
      "[CV 1/5] END max_depth=4, max_features=auto, n_estimators=30; total time=   0.3s\n",
      "[CV 2/5] END max_depth=4, max_features=auto, n_estimators=30; total time=   0.3s\n",
      "[CV 3/5] END max_depth=4, max_features=auto, n_estimators=30; total time=   0.3s\n",
      "[CV 4/5] END max_depth=4, max_features=auto, n_estimators=30; total time=   0.3s\n",
      "[CV 5/5] END max_depth=4, max_features=auto, n_estimators=30; total time=   0.3s\n",
      "[CV 1/5] END max_depth=4, max_features=auto, n_estimators=50; total time=   0.6s\n",
      "[CV 2/5] END max_depth=4, max_features=auto, n_estimators=50; total time=   0.6s\n",
      "[CV 3/5] END max_depth=4, max_features=auto, n_estimators=50; total time=   0.6s\n",
      "[CV 4/5] END max_depth=4, max_features=auto, n_estimators=50; total time=   0.6s\n",
      "[CV 5/5] END max_depth=4, max_features=auto, n_estimators=50; total time=   0.5s\n",
      "[CV 1/5] END max_depth=4, max_features=auto, n_estimators=100; total time=   1.2s\n",
      "[CV 2/5] END max_depth=4, max_features=auto, n_estimators=100; total time=   1.2s\n",
      "[CV 3/5] END max_depth=4, max_features=auto, n_estimators=100; total time=   1.3s\n",
      "[CV 4/5] END max_depth=4, max_features=auto, n_estimators=100; total time=   1.2s\n",
      "[CV 5/5] END max_depth=4, max_features=auto, n_estimators=100; total time=   1.2s\n",
      "[CV 1/5] END max_depth=4, max_features=auto, n_estimators=500; total time=   6.4s\n",
      "[CV 2/5] END max_depth=4, max_features=auto, n_estimators=500; total time=   6.5s\n",
      "[CV 3/5] END max_depth=4, max_features=auto, n_estimators=500; total time=   6.5s\n",
      "[CV 4/5] END max_depth=4, max_features=auto, n_estimators=500; total time=   6.7s\n",
      "[CV 5/5] END max_depth=4, max_features=auto, n_estimators=500; total time=   6.6s\n",
      "[CV 1/5] END max_depth=4, max_features=sqrt, n_estimators=10; total time=   0.0s\n",
      "[CV 2/5] END max_depth=4, max_features=sqrt, n_estimators=10; total time=   0.0s\n",
      "[CV 3/5] END max_depth=4, max_features=sqrt, n_estimators=10; total time=   0.0s\n",
      "[CV 4/5] END max_depth=4, max_features=sqrt, n_estimators=10; total time=   0.0s\n",
      "[CV 5/5] END max_depth=4, max_features=sqrt, n_estimators=10; total time=   0.0s\n",
      "[CV 1/5] END max_depth=4, max_features=sqrt, n_estimators=30; total time=   0.3s\n",
      "[CV 2/5] END max_depth=4, max_features=sqrt, n_estimators=30; total time=   0.3s\n",
      "[CV 3/5] END max_depth=4, max_features=sqrt, n_estimators=30; total time=   0.3s\n",
      "[CV 4/5] END max_depth=4, max_features=sqrt, n_estimators=30; total time=   0.3s\n",
      "[CV 5/5] END max_depth=4, max_features=sqrt, n_estimators=30; total time=   0.3s\n",
      "[CV 1/5] END max_depth=4, max_features=sqrt, n_estimators=50; total time=   0.6s\n",
      "[CV 2/5] END max_depth=4, max_features=sqrt, n_estimators=50; total time=   0.6s\n",
      "[CV 3/5] END max_depth=4, max_features=sqrt, n_estimators=50; total time=   0.6s\n",
      "[CV 4/5] END max_depth=4, max_features=sqrt, n_estimators=50; total time=   0.6s\n",
      "[CV 5/5] END max_depth=4, max_features=sqrt, n_estimators=50; total time=   0.6s\n",
      "[CV 1/5] END max_depth=4, max_features=sqrt, n_estimators=100; total time=   1.2s\n",
      "[CV 2/5] END max_depth=4, max_features=sqrt, n_estimators=100; total time=   1.3s\n",
      "[CV 3/5] END max_depth=4, max_features=sqrt, n_estimators=100; total time=   1.3s\n",
      "[CV 4/5] END max_depth=4, max_features=sqrt, n_estimators=100; total time=   1.3s\n",
      "[CV 5/5] END max_depth=4, max_features=sqrt, n_estimators=100; total time=   1.3s\n",
      "[CV 1/5] END max_depth=4, max_features=sqrt, n_estimators=500; total time=   6.4s\n",
      "[CV 2/5] END max_depth=4, max_features=sqrt, n_estimators=500; total time=   6.7s\n",
      "[CV 3/5] END max_depth=4, max_features=sqrt, n_estimators=500; total time=   6.7s\n",
      "[CV 4/5] END max_depth=4, max_features=sqrt, n_estimators=500; total time=   6.8s\n",
      "[CV 5/5] END max_depth=4, max_features=sqrt, n_estimators=500; total time=   6.7s\n",
      "[CV 1/5] END max_depth=4, max_features=0.3333333333333333, n_estimators=10; total time=   0.3s\n",
      "[CV 2/5] END max_depth=4, max_features=0.3333333333333333, n_estimators=10; total time=   0.3s\n",
      "[CV 3/5] END max_depth=4, max_features=0.3333333333333333, n_estimators=10; total time=   0.3s\n",
      "[CV 4/5] END max_depth=4, max_features=0.3333333333333333, n_estimators=10; total time=   0.3s\n",
      "[CV 5/5] END max_depth=4, max_features=0.3333333333333333, n_estimators=10; total time=   0.3s\n",
      "[CV 1/5] END max_depth=4, max_features=0.3333333333333333, n_estimators=30; total time=   1.0s\n",
      "[CV 2/5] END max_depth=4, max_features=0.3333333333333333, n_estimators=30; total time=   1.0s\n",
      "[CV 3/5] END max_depth=4, max_features=0.3333333333333333, n_estimators=30; total time=   1.1s\n",
      "[CV 4/5] END max_depth=4, max_features=0.3333333333333333, n_estimators=30; total time=   1.1s\n",
      "[CV 5/5] END max_depth=4, max_features=0.3333333333333333, n_estimators=30; total time=   1.0s\n",
      "[CV 1/5] END max_depth=4, max_features=0.3333333333333333, n_estimators=50; total time=   1.6s\n",
      "[CV 2/5] END max_depth=4, max_features=0.3333333333333333, n_estimators=50; total time=   1.8s\n",
      "[CV 3/5] END max_depth=4, max_features=0.3333333333333333, n_estimators=50; total time=   1.9s\n",
      "[CV 4/5] END max_depth=4, max_features=0.3333333333333333, n_estimators=50; total time=   1.8s\n",
      "[CV 5/5] END max_depth=4, max_features=0.3333333333333333, n_estimators=50; total time=   1.8s\n",
      "[CV 1/5] END max_depth=4, max_features=0.3333333333333333, n_estimators=100; total time=   3.5s\n",
      "[CV 2/5] END max_depth=4, max_features=0.3333333333333333, n_estimators=100; total time=   3.7s\n",
      "[CV 3/5] END max_depth=4, max_features=0.3333333333333333, n_estimators=100; total time=   3.7s\n",
      "[CV 4/5] END max_depth=4, max_features=0.3333333333333333, n_estimators=100; total time=   3.7s\n",
      "[CV 5/5] END max_depth=4, max_features=0.3333333333333333, n_estimators=100; total time=   3.7s\n",
      "[CV 1/5] END max_depth=4, max_features=0.3333333333333333, n_estimators=500; total time=  17.5s\n",
      "[CV 2/5] END max_depth=4, max_features=0.3333333333333333, n_estimators=500; total time=  18.9s\n",
      "[CV 3/5] END max_depth=4, max_features=0.3333333333333333, n_estimators=500; total time=  19.2s\n",
      "[CV 4/5] END max_depth=4, max_features=0.3333333333333333, n_estimators=500; total time=  19.1s\n",
      "[CV 5/5] END max_depth=4, max_features=0.3333333333333333, n_estimators=500; total time=  18.7s\n",
      "[CV 1/5] END max_depth=4, max_features=None, n_estimators=10; total time=   0.9s\n",
      "[CV 2/5] END max_depth=4, max_features=None, n_estimators=10; total time=   1.0s\n",
      "[CV 3/5] END max_depth=4, max_features=None, n_estimators=10; total time=   1.0s\n",
      "[CV 4/5] END max_depth=4, max_features=None, n_estimators=10; total time=   1.0s\n",
      "[CV 5/5] END max_depth=4, max_features=None, n_estimators=10; total time=   1.0s\n",
      "[CV 1/5] END max_depth=4, max_features=None, n_estimators=30; total time=   2.7s\n",
      "[CV 2/5] END max_depth=4, max_features=None, n_estimators=30; total time=   3.1s\n",
      "[CV 3/5] END max_depth=4, max_features=None, n_estimators=30; total time=   3.1s\n",
      "[CV 4/5] END max_depth=4, max_features=None, n_estimators=30; total time=   3.2s\n",
      "[CV 5/5] END max_depth=4, max_features=None, n_estimators=30; total time=   3.1s\n",
      "[CV 1/5] END max_depth=4, max_features=None, n_estimators=50; total time=   4.7s\n",
      "[CV 2/5] END max_depth=4, max_features=None, n_estimators=50; total time=   5.2s\n",
      "[CV 3/5] END max_depth=4, max_features=None, n_estimators=50; total time=   5.3s\n",
      "[CV 4/5] END max_depth=4, max_features=None, n_estimators=50; total time=   5.3s\n",
      "[CV 5/5] END max_depth=4, max_features=None, n_estimators=50; total time=   5.2s\n",
      "[CV 1/5] END max_depth=4, max_features=None, n_estimators=100; total time=   9.4s\n",
      "[CV 2/5] END max_depth=4, max_features=None, n_estimators=100; total time=  10.6s\n",
      "[CV 3/5] END max_depth=4, max_features=None, n_estimators=100; total time=  10.7s\n",
      "[CV 4/5] END max_depth=4, max_features=None, n_estimators=100; total time=  10.7s\n",
      "[CV 5/5] END max_depth=4, max_features=None, n_estimators=100; total time=  10.5s\n",
      "[CV 1/5] END max_depth=4, max_features=None, n_estimators=500; total time=  47.3s\n",
      "[CV 2/5] END max_depth=4, max_features=None, n_estimators=500; total time=  53.3s\n",
      "[CV 3/5] END max_depth=4, max_features=None, n_estimators=500; total time=  53.1s\n",
      "[CV 4/5] END max_depth=4, max_features=None, n_estimators=500; total time=  53.0s\n",
      "[CV 5/5] END max_depth=4, max_features=None, n_estimators=500; total time=  52.3s\n",
      "[CV 1/5] END max_depth=5, max_features=auto, n_estimators=10; total time=   0.1s\n",
      "[CV 2/5] END max_depth=5, max_features=auto, n_estimators=10; total time=   0.1s\n",
      "[CV 3/5] END max_depth=5, max_features=auto, n_estimators=10; total time=   0.1s\n",
      "[CV 4/5] END max_depth=5, max_features=auto, n_estimators=10; total time=   0.1s\n",
      "[CV 5/5] END max_depth=5, max_features=auto, n_estimators=10; total time=   0.1s\n",
      "[CV 1/5] END max_depth=5, max_features=auto, n_estimators=30; total time=   0.4s\n",
      "[CV 2/5] END max_depth=5, max_features=auto, n_estimators=30; total time=   0.4s\n",
      "[CV 3/5] END max_depth=5, max_features=auto, n_estimators=30; total time=   0.4s\n",
      "[CV 4/5] END max_depth=5, max_features=auto, n_estimators=30; total time=   0.4s\n",
      "[CV 5/5] END max_depth=5, max_features=auto, n_estimators=30; total time=   0.4s\n",
      "[CV 1/5] END max_depth=5, max_features=auto, n_estimators=50; total time=   0.7s\n",
      "[CV 2/5] END max_depth=5, max_features=auto, n_estimators=50; total time=   0.7s\n",
      "[CV 3/5] END max_depth=5, max_features=auto, n_estimators=50; total time=   0.7s\n",
      "[CV 4/5] END max_depth=5, max_features=auto, n_estimators=50; total time=   0.7s\n",
      "[CV 5/5] END max_depth=5, max_features=auto, n_estimators=50; total time=   0.7s\n",
      "[CV 1/5] END max_depth=5, max_features=auto, n_estimators=100; total time=   1.4s\n",
      "[CV 2/5] END max_depth=5, max_features=auto, n_estimators=100; total time=   1.5s\n",
      "[CV 3/5] END max_depth=5, max_features=auto, n_estimators=100; total time=   1.5s\n",
      "[CV 4/5] END max_depth=5, max_features=auto, n_estimators=100; total time=   1.5s\n",
      "[CV 5/5] END max_depth=5, max_features=auto, n_estimators=100; total time=   1.5s\n",
      "[CV 1/5] END max_depth=5, max_features=auto, n_estimators=500; total time=   7.4s\n",
      "[CV 2/5] END max_depth=5, max_features=auto, n_estimators=500; total time=   7.9s\n",
      "[CV 3/5] END max_depth=5, max_features=auto, n_estimators=500; total time=   7.9s\n",
      "[CV 4/5] END max_depth=5, max_features=auto, n_estimators=500; total time=   7.9s\n",
      "[CV 5/5] END max_depth=5, max_features=auto, n_estimators=500; total time=   7.8s\n",
      "[CV 1/5] END max_depth=5, max_features=sqrt, n_estimators=10; total time=   0.1s\n",
      "[CV 2/5] END max_depth=5, max_features=sqrt, n_estimators=10; total time=   0.1s\n",
      "[CV 3/5] END max_depth=5, max_features=sqrt, n_estimators=10; total time=   0.1s\n",
      "[CV 4/5] END max_depth=5, max_features=sqrt, n_estimators=10; total time=   0.1s\n",
      "[CV 5/5] END max_depth=5, max_features=sqrt, n_estimators=10; total time=   0.1s\n",
      "[CV 1/5] END max_depth=5, max_features=sqrt, n_estimators=30; total time=   0.3s\n",
      "[CV 2/5] END max_depth=5, max_features=sqrt, n_estimators=30; total time=   0.4s\n",
      "[CV 3/5] END max_depth=5, max_features=sqrt, n_estimators=30; total time=   0.4s\n",
      "[CV 4/5] END max_depth=5, max_features=sqrt, n_estimators=30; total time=   0.4s\n",
      "[CV 5/5] END max_depth=5, max_features=sqrt, n_estimators=30; total time=   0.4s\n",
      "[CV 1/5] END max_depth=5, max_features=sqrt, n_estimators=50; total time=   0.7s\n",
      "[CV 2/5] END max_depth=5, max_features=sqrt, n_estimators=50; total time=   0.7s\n",
      "[CV 3/5] END max_depth=5, max_features=sqrt, n_estimators=50; total time=   0.7s\n",
      "[CV 4/5] END max_depth=5, max_features=sqrt, n_estimators=50; total time=   0.7s\n",
      "[CV 5/5] END max_depth=5, max_features=sqrt, n_estimators=50; total time=   0.7s\n",
      "[CV 1/5] END max_depth=5, max_features=sqrt, n_estimators=100; total time=   1.4s\n",
      "[CV 2/5] END max_depth=5, max_features=sqrt, n_estimators=100; total time=   1.5s\n",
      "[CV 3/5] END max_depth=5, max_features=sqrt, n_estimators=100; total time=   1.4s\n",
      "[CV 4/5] END max_depth=5, max_features=sqrt, n_estimators=100; total time=   1.5s\n",
      "[CV 5/5] END max_depth=5, max_features=sqrt, n_estimators=100; total time=   1.4s\n",
      "[CV 1/5] END max_depth=5, max_features=sqrt, n_estimators=500; total time=   7.4s\n",
      "[CV 2/5] END max_depth=5, max_features=sqrt, n_estimators=500; total time=   7.9s\n",
      "[CV 3/5] END max_depth=5, max_features=sqrt, n_estimators=500; total time=   7.8s\n",
      "[CV 4/5] END max_depth=5, max_features=sqrt, n_estimators=500; total time=   8.1s\n",
      "[CV 5/5] END max_depth=5, max_features=sqrt, n_estimators=500; total time=   7.8s\n",
      "[CV 1/5] END max_depth=5, max_features=0.3333333333333333, n_estimators=10; total time=   0.3s\n",
      "[CV 2/5] END max_depth=5, max_features=0.3333333333333333, n_estimators=10; total time=   0.4s\n",
      "[CV 3/5] END max_depth=5, max_features=0.3333333333333333, n_estimators=10; total time=   0.4s\n",
      "[CV 4/5] END max_depth=5, max_features=0.3333333333333333, n_estimators=10; total time=   0.4s\n",
      "[CV 5/5] END max_depth=5, max_features=0.3333333333333333, n_estimators=10; total time=   0.4s\n",
      "[CV 1/5] END max_depth=5, max_features=0.3333333333333333, n_estimators=30; total time=   1.2s\n",
      "[CV 2/5] END max_depth=5, max_features=0.3333333333333333, n_estimators=30; total time=   1.3s\n",
      "[CV 3/5] END max_depth=5, max_features=0.3333333333333333, n_estimators=30; total time=   1.4s\n",
      "[CV 4/5] END max_depth=5, max_features=0.3333333333333333, n_estimators=30; total time=   1.3s\n",
      "[CV 5/5] END max_depth=5, max_features=0.3333333333333333, n_estimators=30; total time=   1.3s\n",
      "[CV 1/5] END max_depth=5, max_features=0.3333333333333333, n_estimators=50; total time=   2.1s\n",
      "[CV 2/5] END max_depth=5, max_features=0.3333333333333333, n_estimators=50; total time=   2.2s\n",
      "[CV 3/5] END max_depth=5, max_features=0.3333333333333333, n_estimators=50; total time=   2.2s\n",
      "[CV 4/5] END max_depth=5, max_features=0.3333333333333333, n_estimators=50; total time=   2.3s\n",
      "[CV 5/5] END max_depth=5, max_features=0.3333333333333333, n_estimators=50; total time=   2.2s\n",
      "[CV 1/5] END max_depth=5, max_features=0.3333333333333333, n_estimators=100; total time=   4.2s\n",
      "[CV 2/5] END max_depth=5, max_features=0.3333333333333333, n_estimators=100; total time=   4.5s\n",
      "[CV 3/5] END max_depth=5, max_features=0.3333333333333333, n_estimators=100; total time=   4.6s\n",
      "[CV 4/5] END max_depth=5, max_features=0.3333333333333333, n_estimators=100; total time=   4.5s\n",
      "[CV 5/5] END max_depth=5, max_features=0.3333333333333333, n_estimators=100; total time=   4.4s\n",
      "[CV 1/5] END max_depth=5, max_features=0.3333333333333333, n_estimators=500; total time=  20.9s\n",
      "[CV 2/5] END max_depth=5, max_features=0.3333333333333333, n_estimators=500; total time=  22.5s\n",
      "[CV 3/5] END max_depth=5, max_features=0.3333333333333333, n_estimators=500; total time=  22.9s\n",
      "[CV 4/5] END max_depth=5, max_features=0.3333333333333333, n_estimators=500; total time=  23.1s\n",
      "[CV 5/5] END max_depth=5, max_features=0.3333333333333333, n_estimators=500; total time=  22.8s\n",
      "[CV 1/5] END max_depth=5, max_features=None, n_estimators=10; total time=   1.1s\n",
      "[CV 2/5] END max_depth=5, max_features=None, n_estimators=10; total time=   1.2s\n",
      "[CV 3/5] END max_depth=5, max_features=None, n_estimators=10; total time=   1.3s\n",
      "[CV 4/5] END max_depth=5, max_features=None, n_estimators=10; total time=   1.3s\n",
      "[CV 5/5] END max_depth=5, max_features=None, n_estimators=10; total time=   1.2s\n",
      "[CV 1/5] END max_depth=5, max_features=None, n_estimators=30; total time=   3.4s\n",
      "[CV 2/5] END max_depth=5, max_features=None, n_estimators=30; total time=   3.8s\n",
      "[CV 3/5] END max_depth=5, max_features=None, n_estimators=30; total time=   3.9s\n",
      "[CV 4/5] END max_depth=5, max_features=None, n_estimators=30; total time=   3.9s\n",
      "[CV 5/5] END max_depth=5, max_features=None, n_estimators=30; total time=   3.8s\n",
      "[CV 1/5] END max_depth=5, max_features=None, n_estimators=50; total time=   5.7s\n",
      "[CV 2/5] END max_depth=5, max_features=None, n_estimators=50; total time=   6.5s\n",
      "[CV 3/5] END max_depth=5, max_features=None, n_estimators=50; total time=   6.6s\n",
      "[CV 4/5] END max_depth=5, max_features=None, n_estimators=50; total time=   6.6s\n",
      "[CV 5/5] END max_depth=5, max_features=None, n_estimators=50; total time=   6.4s\n",
      "[CV 1/5] END max_depth=5, max_features=None, n_estimators=100; total time=  11.5s\n",
      "[CV 2/5] END max_depth=5, max_features=None, n_estimators=100; total time=  12.8s\n",
      "[CV 3/5] END max_depth=5, max_features=None, n_estimators=100; total time=  13.2s\n",
      "[CV 4/5] END max_depth=5, max_features=None, n_estimators=100; total time=  13.1s\n",
      "[CV 5/5] END max_depth=5, max_features=None, n_estimators=100; total time=  12.8s\n",
      "[CV 1/5] END max_depth=5, max_features=None, n_estimators=500; total time=  58.0s\n",
      "[CV 2/5] END max_depth=5, max_features=None, n_estimators=500; total time= 1.1min\n",
      "[CV 3/5] END max_depth=5, max_features=None, n_estimators=500; total time= 1.1min\n",
      "[CV 4/5] END max_depth=5, max_features=None, n_estimators=500; total time= 1.1min\n",
      "[CV 5/5] END max_depth=5, max_features=None, n_estimators=500; total time= 1.1min\n",
      "[CV 1/5] END max_depth=7, max_features=auto, n_estimators=10; total time=   0.1s\n",
      "[CV 2/5] END max_depth=7, max_features=auto, n_estimators=10; total time=   0.1s\n",
      "[CV 3/5] END max_depth=7, max_features=auto, n_estimators=10; total time=   0.1s\n",
      "[CV 4/5] END max_depth=7, max_features=auto, n_estimators=10; total time=   0.1s\n",
      "[CV 5/5] END max_depth=7, max_features=auto, n_estimators=10; total time=   0.1s\n",
      "[CV 1/5] END max_depth=7, max_features=auto, n_estimators=30; total time=   0.5s\n",
      "[CV 2/5] END max_depth=7, max_features=auto, n_estimators=30; total time=   0.5s\n",
      "[CV 3/5] END max_depth=7, max_features=auto, n_estimators=30; total time=   0.6s\n",
      "[CV 4/5] END max_depth=7, max_features=auto, n_estimators=30; total time=   0.5s\n",
      "[CV 5/5] END max_depth=7, max_features=auto, n_estimators=30; total time=   0.5s\n",
      "[CV 1/5] END max_depth=7, max_features=auto, n_estimators=50; total time=   0.9s\n",
      "[CV 2/5] END max_depth=7, max_features=auto, n_estimators=50; total time=   1.0s\n",
      "[CV 3/5] END max_depth=7, max_features=auto, n_estimators=50; total time=   1.0s\n",
      "[CV 4/5] END max_depth=7, max_features=auto, n_estimators=50; total time=   1.0s\n",
      "[CV 5/5] END max_depth=7, max_features=auto, n_estimators=50; total time=   1.0s\n",
      "[CV 1/5] END max_depth=7, max_features=auto, n_estimators=100; total time=   1.9s\n",
      "[CV 2/5] END max_depth=7, max_features=auto, n_estimators=100; total time=   2.0s\n",
      "[CV 3/5] END max_depth=7, max_features=auto, n_estimators=100; total time=   2.0s\n",
      "[CV 4/5] END max_depth=7, max_features=auto, n_estimators=100; total time=   2.0s\n",
      "[CV 5/5] END max_depth=7, max_features=auto, n_estimators=100; total time=   1.9s\n",
      "[CV 1/5] END max_depth=7, max_features=auto, n_estimators=500; total time=   9.8s\n",
      "[CV 2/5] END max_depth=7, max_features=auto, n_estimators=500; total time=  10.3s\n",
      "[CV 3/5] END max_depth=7, max_features=auto, n_estimators=500; total time=  10.4s\n",
      "[CV 4/5] END max_depth=7, max_features=auto, n_estimators=500; total time=  10.4s\n",
      "[CV 5/5] END max_depth=7, max_features=auto, n_estimators=500; total time=  10.1s\n",
      "[CV 1/5] END max_depth=7, max_features=sqrt, n_estimators=10; total time=   0.1s\n",
      "[CV 2/5] END max_depth=7, max_features=sqrt, n_estimators=10; total time=   0.1s\n",
      "[CV 3/5] END max_depth=7, max_features=sqrt, n_estimators=10; total time=   0.1s\n",
      "[CV 4/5] END max_depth=7, max_features=sqrt, n_estimators=10; total time=   0.1s\n",
      "[CV 5/5] END max_depth=7, max_features=sqrt, n_estimators=10; total time=   0.1s\n",
      "[CV 1/5] END max_depth=7, max_features=sqrt, n_estimators=30; total time=   0.5s\n",
      "[CV 2/5] END max_depth=7, max_features=sqrt, n_estimators=30; total time=   0.6s\n",
      "[CV 3/5] END max_depth=7, max_features=sqrt, n_estimators=30; total time=   0.6s\n",
      "[CV 4/5] END max_depth=7, max_features=sqrt, n_estimators=30; total time=   0.6s\n",
      "[CV 5/5] END max_depth=7, max_features=sqrt, n_estimators=30; total time=   0.6s\n",
      "[CV 1/5] END max_depth=7, max_features=sqrt, n_estimators=50; total time=   0.9s\n",
      "[CV 2/5] END max_depth=7, max_features=sqrt, n_estimators=50; total time=   1.0s\n",
      "[CV 3/5] END max_depth=7, max_features=sqrt, n_estimators=50; total time=   1.0s\n",
      "[CV 4/5] END max_depth=7, max_features=sqrt, n_estimators=50; total time=   1.0s\n",
      "[CV 5/5] END max_depth=7, max_features=sqrt, n_estimators=50; total time=   0.9s\n",
      "[CV 1/5] END max_depth=7, max_features=sqrt, n_estimators=100; total time=   1.8s\n",
      "[CV 2/5] END max_depth=7, max_features=sqrt, n_estimators=100; total time=   2.0s\n",
      "[CV 3/5] END max_depth=7, max_features=sqrt, n_estimators=100; total time=   2.0s\n",
      "[CV 4/5] END max_depth=7, max_features=sqrt, n_estimators=100; total time=   2.0s\n",
      "[CV 5/5] END max_depth=7, max_features=sqrt, n_estimators=100; total time=   1.9s\n",
      "[CV 1/5] END max_depth=7, max_features=sqrt, n_estimators=500; total time=   9.7s\n",
      "[CV 2/5] END max_depth=7, max_features=sqrt, n_estimators=500; total time=  10.2s\n",
      "[CV 3/5] END max_depth=7, max_features=sqrt, n_estimators=500; total time=  10.4s\n",
      "[CV 4/5] END max_depth=7, max_features=sqrt, n_estimators=500; total time=  10.7s\n",
      "[CV 5/5] END max_depth=7, max_features=sqrt, n_estimators=500; total time=  10.2s\n",
      "[CV 1/5] END max_depth=7, max_features=0.3333333333333333, n_estimators=10; total time=   0.5s\n",
      "[CV 2/5] END max_depth=7, max_features=0.3333333333333333, n_estimators=10; total time=   0.5s\n",
      "[CV 3/5] END max_depth=7, max_features=0.3333333333333333, n_estimators=10; total time=   0.5s\n",
      "[CV 4/5] END max_depth=7, max_features=0.3333333333333333, n_estimators=10; total time=   0.5s\n",
      "[CV 5/5] END max_depth=7, max_features=0.3333333333333333, n_estimators=10; total time=   0.5s\n",
      "[CV 1/5] END max_depth=7, max_features=0.3333333333333333, n_estimators=30; total time=   1.6s\n",
      "[CV 2/5] END max_depth=7, max_features=0.3333333333333333, n_estimators=30; total time=   1.7s\n",
      "[CV 3/5] END max_depth=7, max_features=0.3333333333333333, n_estimators=30; total time=   1.8s\n",
      "[CV 4/5] END max_depth=7, max_features=0.3333333333333333, n_estimators=30; total time=   1.8s\n",
      "[CV 5/5] END max_depth=7, max_features=0.3333333333333333, n_estimators=30; total time=   1.7s\n",
      "[CV 1/5] END max_depth=7, max_features=0.3333333333333333, n_estimators=50; total time=   2.7s\n",
      "[CV 2/5] END max_depth=7, max_features=0.3333333333333333, n_estimators=50; total time=   2.9s\n",
      "[CV 3/5] END max_depth=7, max_features=0.3333333333333333, n_estimators=50; total time=   3.0s\n",
      "[CV 4/5] END max_depth=7, max_features=0.3333333333333333, n_estimators=50; total time=   3.0s\n",
      "[CV 5/5] END max_depth=7, max_features=0.3333333333333333, n_estimators=50; total time=   2.9s\n",
      "[CV 1/5] END max_depth=7, max_features=0.3333333333333333, n_estimators=100; total time=   5.5s\n",
      "[CV 2/5] END max_depth=7, max_features=0.3333333333333333, n_estimators=100; total time=   6.0s\n",
      "[CV 3/5] END max_depth=7, max_features=0.3333333333333333, n_estimators=100; total time=   6.0s\n",
      "[CV 4/5] END max_depth=7, max_features=0.3333333333333333, n_estimators=100; total time=   6.1s\n",
      "[CV 5/5] END max_depth=7, max_features=0.3333333333333333, n_estimators=100; total time=   6.0s\n",
      "[CV 1/5] END max_depth=7, max_features=0.3333333333333333, n_estimators=500; total time=  27.9s\n",
      "[CV 2/5] END max_depth=7, max_features=0.3333333333333333, n_estimators=500; total time=  30.1s\n",
      "[CV 3/5] END max_depth=7, max_features=0.3333333333333333, n_estimators=500; total time=  31.1s\n",
      "[CV 4/5] END max_depth=7, max_features=0.3333333333333333, n_estimators=500; total time=  30.9s\n",
      "[CV 5/5] END max_depth=7, max_features=0.3333333333333333, n_estimators=500; total time=  29.8s\n",
      "[CV 1/5] END max_depth=7, max_features=None, n_estimators=10; total time=   1.5s\n",
      "[CV 2/5] END max_depth=7, max_features=None, n_estimators=10; total time=   1.6s\n",
      "[CV 3/5] END max_depth=7, max_features=None, n_estimators=10; total time=   1.7s\n",
      "[CV 4/5] END max_depth=7, max_features=None, n_estimators=10; total time=   1.7s\n",
      "[CV 5/5] END max_depth=7, max_features=None, n_estimators=10; total time=   1.6s\n",
      "[CV 1/5] END max_depth=7, max_features=None, n_estimators=30; total time=   4.5s\n",
      "[CV 2/5] END max_depth=7, max_features=None, n_estimators=30; total time=   5.0s\n",
      "[CV 3/5] END max_depth=7, max_features=None, n_estimators=30; total time=   5.2s\n",
      "[CV 4/5] END max_depth=7, max_features=None, n_estimators=30; total time=   5.2s\n",
      "[CV 5/5] END max_depth=7, max_features=None, n_estimators=30; total time=   5.0s\n",
      "[CV 1/5] END max_depth=7, max_features=None, n_estimators=50; total time=   7.6s\n",
      "[CV 2/5] END max_depth=7, max_features=None, n_estimators=50; total time=   8.4s\n",
      "[CV 3/5] END max_depth=7, max_features=None, n_estimators=50; total time=   8.7s\n",
      "[CV 4/5] END max_depth=7, max_features=None, n_estimators=50; total time=   8.7s\n",
      "[CV 5/5] END max_depth=7, max_features=None, n_estimators=50; total time=   8.4s\n",
      "[CV 1/5] END max_depth=7, max_features=None, n_estimators=100; total time=  15.2s\n",
      "[CV 2/5] END max_depth=7, max_features=None, n_estimators=100; total time=  17.0s\n",
      "[CV 3/5] END max_depth=7, max_features=None, n_estimators=100; total time=  17.6s\n",
      "[CV 4/5] END max_depth=7, max_features=None, n_estimators=100; total time=  17.6s\n",
      "[CV 5/5] END max_depth=7, max_features=None, n_estimators=100; total time=  17.1s\n",
      "[CV 1/5] END max_depth=7, max_features=None, n_estimators=500; total time= 1.3min\n",
      "[CV 2/5] END max_depth=7, max_features=None, n_estimators=500; total time= 1.4min\n",
      "[CV 3/5] END max_depth=7, max_features=None, n_estimators=500; total time= 1.5min\n",
      "[CV 4/5] END max_depth=7, max_features=None, n_estimators=500; total time= 1.5min\n",
      "[CV 5/5] END max_depth=7, max_features=None, n_estimators=500; total time= 1.4min\n",
      "[CV 1/5] END max_depth=10, max_features=auto, n_estimators=10; total time=   0.2s\n",
      "[CV 2/5] END max_depth=10, max_features=auto, n_estimators=10; total time=   0.2s\n",
      "[CV 3/5] END max_depth=10, max_features=auto, n_estimators=10; total time=   0.2s\n",
      "[CV 4/5] END max_depth=10, max_features=auto, n_estimators=10; total time=   0.2s\n",
      "[CV 5/5] END max_depth=10, max_features=auto, n_estimators=10; total time=   0.2s\n",
      "[CV 1/5] END max_depth=10, max_features=auto, n_estimators=30; total time=   0.7s\n",
      "[CV 2/5] END max_depth=10, max_features=auto, n_estimators=30; total time=   0.7s\n",
      "[CV 3/5] END max_depth=10, max_features=auto, n_estimators=30; total time=   0.7s\n",
      "[CV 4/5] END max_depth=10, max_features=auto, n_estimators=30; total time=   0.8s\n",
      "[CV 5/5] END max_depth=10, max_features=auto, n_estimators=30; total time=   0.7s\n",
      "[CV 1/5] END max_depth=10, max_features=auto, n_estimators=50; total time=   1.2s\n",
      "[CV 2/5] END max_depth=10, max_features=auto, n_estimators=50; total time=   1.3s\n",
      "[CV 3/5] END max_depth=10, max_features=auto, n_estimators=50; total time=   1.3s\n",
      "[CV 4/5] END max_depth=10, max_features=auto, n_estimators=50; total time=   1.3s\n",
      "[CV 5/5] END max_depth=10, max_features=auto, n_estimators=50; total time=   1.3s\n",
      "[CV 1/5] END max_depth=10, max_features=auto, n_estimators=100; total time=   2.4s\n",
      "[CV 2/5] END max_depth=10, max_features=auto, n_estimators=100; total time=   2.6s\n",
      "[CV 3/5] END max_depth=10, max_features=auto, n_estimators=100; total time=   2.7s\n",
      "[CV 4/5] END max_depth=10, max_features=auto, n_estimators=100; total time=   2.7s\n",
      "[CV 5/5] END max_depth=10, max_features=auto, n_estimators=100; total time=   2.6s\n",
      "[CV 1/5] END max_depth=10, max_features=auto, n_estimators=500; total time=  12.7s\n",
      "[CV 2/5] END max_depth=10, max_features=auto, n_estimators=500; total time=  13.5s\n",
      "[CV 3/5] END max_depth=10, max_features=auto, n_estimators=500; total time=  13.7s\n",
      "[CV 4/5] END max_depth=10, max_features=auto, n_estimators=500; total time=  13.7s\n",
      "[CV 5/5] END max_depth=10, max_features=auto, n_estimators=500; total time=  13.5s\n",
      "[CV 1/5] END max_depth=10, max_features=sqrt, n_estimators=10; total time=   0.2s\n",
      "[CV 2/5] END max_depth=10, max_features=sqrt, n_estimators=10; total time=   0.2s\n",
      "[CV 3/5] END max_depth=10, max_features=sqrt, n_estimators=10; total time=   0.2s\n",
      "[CV 4/5] END max_depth=10, max_features=sqrt, n_estimators=10; total time=   0.2s\n",
      "[CV 5/5] END max_depth=10, max_features=sqrt, n_estimators=10; total time=   0.2s\n",
      "[CV 1/5] END max_depth=10, max_features=sqrt, n_estimators=30; total time=   0.7s\n",
      "[CV 2/5] END max_depth=10, max_features=sqrt, n_estimators=30; total time=   0.7s\n",
      "[CV 3/5] END max_depth=10, max_features=sqrt, n_estimators=30; total time=   0.7s\n",
      "[CV 4/5] END max_depth=10, max_features=sqrt, n_estimators=30; total time=   0.7s\n",
      "[CV 5/5] END max_depth=10, max_features=sqrt, n_estimators=30; total time=   0.7s\n",
      "[CV 1/5] END max_depth=10, max_features=sqrt, n_estimators=50; total time=   1.3s\n",
      "[CV 2/5] END max_depth=10, max_features=sqrt, n_estimators=50; total time=   1.3s\n",
      "[CV 3/5] END max_depth=10, max_features=sqrt, n_estimators=50; total time=   1.3s\n",
      "[CV 4/5] END max_depth=10, max_features=sqrt, n_estimators=50; total time=   1.3s\n",
      "[CV 5/5] END max_depth=10, max_features=sqrt, n_estimators=50; total time=   1.2s\n",
      "[CV 1/5] END max_depth=10, max_features=sqrt, n_estimators=100; total time=   2.5s\n",
      "[CV 2/5] END max_depth=10, max_features=sqrt, n_estimators=100; total time=   2.7s\n",
      "[CV 3/5] END max_depth=10, max_features=sqrt, n_estimators=100; total time=   2.7s\n",
      "[CV 4/5] END max_depth=10, max_features=sqrt, n_estimators=100; total time=   2.7s\n",
      "[CV 5/5] END max_depth=10, max_features=sqrt, n_estimators=100; total time=   2.6s\n",
      "[CV 1/5] END max_depth=10, max_features=sqrt, n_estimators=500; total time=  12.8s\n",
      "[CV 2/5] END max_depth=10, max_features=sqrt, n_estimators=500; total time=  13.7s\n",
      "[CV 3/5] END max_depth=10, max_features=sqrt, n_estimators=500; total time=  13.7s\n",
      "[CV 4/5] END max_depth=10, max_features=sqrt, n_estimators=500; total time=  13.7s\n",
      "[CV 5/5] END max_depth=10, max_features=sqrt, n_estimators=500; total time=  13.4s\n",
      "[CV 1/5] END max_depth=10, max_features=0.3333333333333333, n_estimators=10; total time=   0.7s\n",
      "[CV 2/5] END max_depth=10, max_features=0.3333333333333333, n_estimators=10; total time=   0.7s\n",
      "[CV 3/5] END max_depth=10, max_features=0.3333333333333333, n_estimators=10; total time=   0.7s\n",
      "[CV 4/5] END max_depth=10, max_features=0.3333333333333333, n_estimators=10; total time=   0.7s\n",
      "[CV 5/5] END max_depth=10, max_features=0.3333333333333333, n_estimators=10; total time=   0.7s\n",
      "[CV 1/5] END max_depth=10, max_features=0.3333333333333333, n_estimators=30; total time=   2.2s\n",
      "[CV 2/5] END max_depth=10, max_features=0.3333333333333333, n_estimators=30; total time=   2.4s\n",
      "[CV 3/5] END max_depth=10, max_features=0.3333333333333333, n_estimators=30; total time=   2.4s\n",
      "[CV 4/5] END max_depth=10, max_features=0.3333333333333333, n_estimators=30; total time=   2.4s\n",
      "[CV 5/5] END max_depth=10, max_features=0.3333333333333333, n_estimators=30; total time=   2.3s\n",
      "[CV 1/5] END max_depth=10, max_features=0.3333333333333333, n_estimators=50; total time=   3.6s\n",
      "[CV 2/5] END max_depth=10, max_features=0.3333333333333333, n_estimators=50; total time=   3.9s\n",
      "[CV 3/5] END max_depth=10, max_features=0.3333333333333333, n_estimators=50; total time=   4.0s\n",
      "[CV 4/5] END max_depth=10, max_features=0.3333333333333333, n_estimators=50; total time=   4.1s\n",
      "[CV 5/5] END max_depth=10, max_features=0.3333333333333333, n_estimators=50; total time=   3.9s\n",
      "[CV 1/5] END max_depth=10, max_features=0.3333333333333333, n_estimators=100; total time=   7.3s\n",
      "[CV 2/5] END max_depth=10, max_features=0.3333333333333333, n_estimators=100; total time=   8.0s\n",
      "[CV 3/5] END max_depth=10, max_features=0.3333333333333333, n_estimators=100; total time=   8.3s\n",
      "[CV 4/5] END max_depth=10, max_features=0.3333333333333333, n_estimators=100; total time=   8.1s\n",
      "[CV 5/5] END max_depth=10, max_features=0.3333333333333333, n_estimators=100; total time=   8.0s\n",
      "[CV 1/5] END max_depth=10, max_features=0.3333333333333333, n_estimators=500; total time=  36.9s\n",
      "[CV 2/5] END max_depth=10, max_features=0.3333333333333333, n_estimators=500; total time=  40.0s\n",
      "[CV 3/5] END max_depth=10, max_features=0.3333333333333333, n_estimators=500; total time=  41.7s\n",
      "[CV 4/5] END max_depth=10, max_features=0.3333333333333333, n_estimators=500; total time=  41.0s\n",
      "[CV 5/5] END max_depth=10, max_features=0.3333333333333333, n_estimators=500; total time=  40.2s\n",
      "[CV 1/5] END max_depth=10, max_features=None, n_estimators=10; total time=   2.0s\n",
      "[CV 2/5] END max_depth=10, max_features=None, n_estimators=10; total time=   2.2s\n",
      "[CV 3/5] END max_depth=10, max_features=None, n_estimators=10; total time=   2.3s\n",
      "[CV 4/5] END max_depth=10, max_features=None, n_estimators=10; total time=   2.3s\n",
      "[CV 5/5] END max_depth=10, max_features=None, n_estimators=10; total time=   2.2s\n",
      "[CV 1/5] END max_depth=10, max_features=None, n_estimators=30; total time=   6.2s\n",
      "[CV 2/5] END max_depth=10, max_features=None, n_estimators=30; total time=   6.7s\n",
      "[CV 3/5] END max_depth=10, max_features=None, n_estimators=30; total time=   7.0s\n",
      "[CV 4/5] END max_depth=10, max_features=None, n_estimators=30; total time=   7.0s\n",
      "[CV 5/5] END max_depth=10, max_features=None, n_estimators=30; total time=   6.8s\n",
      "[CV 1/5] END max_depth=10, max_features=None, n_estimators=50; total time=  10.3s\n",
      "[CV 2/5] END max_depth=10, max_features=None, n_estimators=50; total time=  11.4s\n",
      "[CV 3/5] END max_depth=10, max_features=None, n_estimators=50; total time=  11.9s\n",
      "[CV 4/5] END max_depth=10, max_features=None, n_estimators=50; total time=  11.7s\n",
      "[CV 5/5] END max_depth=10, max_features=None, n_estimators=50; total time=  11.4s\n",
      "[CV 1/5] END max_depth=10, max_features=None, n_estimators=100; total time=  20.9s\n",
      "[CV 2/5] END max_depth=10, max_features=None, n_estimators=100; total time=  22.8s\n",
      "[CV 3/5] END max_depth=10, max_features=None, n_estimators=100; total time=  23.7s\n",
      "[CV 4/5] END max_depth=10, max_features=None, n_estimators=100; total time=  23.5s\n",
      "[CV 5/5] END max_depth=10, max_features=None, n_estimators=100; total time=  23.0s\n",
      "[CV 1/5] END max_depth=10, max_features=None, n_estimators=500; total time= 1.7min\n",
      "[CV 2/5] END max_depth=10, max_features=None, n_estimators=500; total time= 1.9min\n",
      "[CV 3/5] END max_depth=10, max_features=None, n_estimators=500; total time= 2.0min\n",
      "[CV 4/5] END max_depth=10, max_features=None, n_estimators=500; total time= 2.0min\n",
      "[CV 5/5] END max_depth=10, max_features=None, n_estimators=500; total time= 1.9min\n",
      "[CV 1/5] END max_depth=None, max_features=auto, n_estimators=10; total time=   0.3s\n",
      "[CV 2/5] END max_depth=None, max_features=auto, n_estimators=10; total time=   0.3s\n",
      "[CV 3/5] END max_depth=None, max_features=auto, n_estimators=10; total time=   0.3s\n",
      "[CV 4/5] END max_depth=None, max_features=auto, n_estimators=10; total time=   0.3s\n",
      "[CV 5/5] END max_depth=None, max_features=auto, n_estimators=10; total time=   0.3s\n",
      "[CV 1/5] END max_depth=None, max_features=auto, n_estimators=30; total time=   1.0s\n",
      "[CV 2/5] END max_depth=None, max_features=auto, n_estimators=30; total time=   1.1s\n",
      "[CV 3/5] END max_depth=None, max_features=auto, n_estimators=30; total time=   1.1s\n",
      "[CV 4/5] END max_depth=None, max_features=auto, n_estimators=30; total time=   1.1s\n",
      "[CV 5/5] END max_depth=None, max_features=auto, n_estimators=30; total time=   1.1s\n",
      "[CV 1/5] END max_depth=None, max_features=auto, n_estimators=50; total time=   1.7s\n",
      "[CV 2/5] END max_depth=None, max_features=auto, n_estimators=50; total time=   1.8s\n",
      "[CV 3/5] END max_depth=None, max_features=auto, n_estimators=50; total time=   1.9s\n",
      "[CV 4/5] END max_depth=None, max_features=auto, n_estimators=50; total time=   1.9s\n",
      "[CV 5/5] END max_depth=None, max_features=auto, n_estimators=50; total time=   1.9s\n",
      "[CV 1/5] END max_depth=None, max_features=auto, n_estimators=100; total time=   3.5s\n",
      "[CV 2/5] END max_depth=None, max_features=auto, n_estimators=100; total time=   3.7s\n",
      "[CV 3/5] END max_depth=None, max_features=auto, n_estimators=100; total time=   3.9s\n",
      "[CV 4/5] END max_depth=None, max_features=auto, n_estimators=100; total time=   3.7s\n",
      "[CV 5/5] END max_depth=None, max_features=auto, n_estimators=100; total time=   3.9s\n",
      "[CV 1/5] END max_depth=None, max_features=auto, n_estimators=500; total time=  18.2s\n",
      "[CV 2/5] END max_depth=None, max_features=auto, n_estimators=500; total time=  18.8s\n",
      "[CV 3/5] END max_depth=None, max_features=auto, n_estimators=500; total time=  19.6s\n",
      "[CV 4/5] END max_depth=None, max_features=auto, n_estimators=500; total time=  19.5s\n",
      "[CV 5/5] END max_depth=None, max_features=auto, n_estimators=500; total time=  19.5s\n",
      "[CV 1/5] END max_depth=None, max_features=sqrt, n_estimators=10; total time=   0.3s\n",
      "[CV 2/5] END max_depth=None, max_features=sqrt, n_estimators=10; total time=   0.3s\n",
      "[CV 3/5] END max_depth=None, max_features=sqrt, n_estimators=10; total time=   0.3s\n",
      "[CV 4/5] END max_depth=None, max_features=sqrt, n_estimators=10; total time=   0.3s\n",
      "[CV 5/5] END max_depth=None, max_features=sqrt, n_estimators=10; total time=   0.3s\n",
      "[CV 1/5] END max_depth=None, max_features=sqrt, n_estimators=30; total time=   1.0s\n",
      "[CV 2/5] END max_depth=None, max_features=sqrt, n_estimators=30; total time=   1.1s\n",
      "[CV 3/5] END max_depth=None, max_features=sqrt, n_estimators=30; total time=   1.1s\n",
      "[CV 4/5] END max_depth=None, max_features=sqrt, n_estimators=30; total time=   1.1s\n",
      "[CV 5/5] END max_depth=None, max_features=sqrt, n_estimators=30; total time=   1.1s\n",
      "[CV 1/5] END max_depth=None, max_features=sqrt, n_estimators=50; total time=   1.7s\n",
      "[CV 2/5] END max_depth=None, max_features=sqrt, n_estimators=50; total time=   1.8s\n",
      "[CV 3/5] END max_depth=None, max_features=sqrt, n_estimators=50; total time=   1.9s\n",
      "[CV 4/5] END max_depth=None, max_features=sqrt, n_estimators=50; total time=   1.9s\n",
      "[CV 5/5] END max_depth=None, max_features=sqrt, n_estimators=50; total time=   1.9s\n",
      "[CV 1/5] END max_depth=None, max_features=sqrt, n_estimators=100; total time=   3.5s\n",
      "[CV 2/5] END max_depth=None, max_features=sqrt, n_estimators=100; total time=   3.7s\n",
      "[CV 3/5] END max_depth=None, max_features=sqrt, n_estimators=100; total time=   3.9s\n",
      "[CV 4/5] END max_depth=None, max_features=sqrt, n_estimators=100; total time=   3.8s\n",
      "[CV 5/5] END max_depth=None, max_features=sqrt, n_estimators=100; total time=   3.8s\n",
      "[CV 1/5] END max_depth=None, max_features=sqrt, n_estimators=500; total time=  18.1s\n",
      "[CV 2/5] END max_depth=None, max_features=sqrt, n_estimators=500; total time=  18.8s\n",
      "[CV 3/5] END max_depth=None, max_features=sqrt, n_estimators=500; total time=  19.4s\n",
      "[CV 4/5] END max_depth=None, max_features=sqrt, n_estimators=500; total time=  19.3s\n",
      "[CV 5/5] END max_depth=None, max_features=sqrt, n_estimators=500; total time=  19.6s\n",
      "[CV 1/5] END max_depth=None, max_features=0.3333333333333333, n_estimators=10; total time=   1.0s\n",
      "[CV 2/5] END max_depth=None, max_features=0.3333333333333333, n_estimators=10; total time=   1.0s\n",
      "[CV 3/5] END max_depth=None, max_features=0.3333333333333333, n_estimators=10; total time=   1.1s\n",
      "[CV 4/5] END max_depth=None, max_features=0.3333333333333333, n_estimators=10; total time=   1.0s\n",
      "[CV 5/5] END max_depth=None, max_features=0.3333333333333333, n_estimators=10; total time=   1.1s\n",
      "[CV 1/5] END max_depth=None, max_features=0.3333333333333333, n_estimators=30; total time=   3.1s\n",
      "[CV 2/5] END max_depth=None, max_features=0.3333333333333333, n_estimators=30; total time=   3.2s\n",
      "[CV 3/5] END max_depth=None, max_features=0.3333333333333333, n_estimators=30; total time=   3.4s\n",
      "[CV 4/5] END max_depth=None, max_features=0.3333333333333333, n_estimators=30; total time=   3.3s\n",
      "[CV 5/5] END max_depth=None, max_features=0.3333333333333333, n_estimators=30; total time=   3.5s\n",
      "[CV 1/5] END max_depth=None, max_features=0.3333333333333333, n_estimators=50; total time=   5.2s\n",
      "[CV 2/5] END max_depth=None, max_features=0.3333333333333333, n_estimators=50; total time=   5.5s\n",
      "[CV 3/5] END max_depth=None, max_features=0.3333333333333333, n_estimators=50; total time=   5.7s\n",
      "[CV 4/5] END max_depth=None, max_features=0.3333333333333333, n_estimators=50; total time=   5.6s\n",
      "[CV 5/5] END max_depth=None, max_features=0.3333333333333333, n_estimators=50; total time=   5.7s\n",
      "[CV 1/5] END max_depth=None, max_features=0.3333333333333333, n_estimators=100; total time=  10.5s\n",
      "[CV 2/5] END max_depth=None, max_features=0.3333333333333333, n_estimators=100; total time=  10.7s\n",
      "[CV 3/5] END max_depth=None, max_features=0.3333333333333333, n_estimators=100; total time=  11.4s\n",
      "[CV 4/5] END max_depth=None, max_features=0.3333333333333333, n_estimators=100; total time=  11.1s\n",
      "[CV 5/5] END max_depth=None, max_features=0.3333333333333333, n_estimators=100; total time=  11.5s\n",
      "[CV 1/5] END max_depth=None, max_features=0.3333333333333333, n_estimators=500; total time=  52.7s\n",
      "[CV 2/5] END max_depth=None, max_features=0.3333333333333333, n_estimators=500; total time=  54.8s\n",
      "[CV 3/5] END max_depth=None, max_features=0.3333333333333333, n_estimators=500; total time=  57.6s\n",
      "[CV 4/5] END max_depth=None, max_features=0.3333333333333333, n_estimators=500; total time=  56.7s\n",
      "[CV 5/5] END max_depth=None, max_features=0.3333333333333333, n_estimators=500; total time=  58.3s\n",
      "[CV 1/5] END max_depth=None, max_features=None, n_estimators=10; total time=   3.0s\n",
      "[CV 2/5] END max_depth=None, max_features=None, n_estimators=10; total time=   3.1s\n",
      "[CV 3/5] END max_depth=None, max_features=None, n_estimators=10; total time=   3.3s\n",
      "[CV 4/5] END max_depth=None, max_features=None, n_estimators=10; total time=   3.1s\n",
      "[CV 5/5] END max_depth=None, max_features=None, n_estimators=10; total time=   3.2s\n",
      "[CV 1/5] END max_depth=None, max_features=None, n_estimators=30; total time=   9.1s\n",
      "[CV 2/5] END max_depth=None, max_features=None, n_estimators=30; total time=   9.3s\n",
      "[CV 3/5] END max_depth=None, max_features=None, n_estimators=30; total time=  10.0s\n",
      "[CV 4/5] END max_depth=None, max_features=None, n_estimators=30; total time=   9.8s\n",
      "[CV 5/5] END max_depth=None, max_features=None, n_estimators=30; total time=  10.1s\n",
      "[CV 1/5] END max_depth=None, max_features=None, n_estimators=50; total time=  15.4s\n",
      "[CV 2/5] END max_depth=None, max_features=None, n_estimators=50; total time=  15.7s\n",
      "[CV 3/5] END max_depth=None, max_features=None, n_estimators=50; total time=  16.4s\n",
      "[CV 4/5] END max_depth=None, max_features=None, n_estimators=50; total time=  16.2s\n",
      "[CV 5/5] END max_depth=None, max_features=None, n_estimators=50; total time=  16.7s\n",
      "[CV 1/5] END max_depth=None, max_features=None, n_estimators=100; total time=  30.7s\n",
      "[CV 2/5] END max_depth=None, max_features=None, n_estimators=100; total time=  31.5s\n",
      "[CV 3/5] END max_depth=None, max_features=None, n_estimators=100; total time=  33.1s\n",
      "[CV 4/5] END max_depth=None, max_features=None, n_estimators=100; total time=  32.3s\n",
      "[CV 5/5] END max_depth=None, max_features=None, n_estimators=100; total time=  33.6s\n",
      "[CV 1/5] END max_depth=None, max_features=None, n_estimators=500; total time= 2.6min\n",
      "[CV 2/5] END max_depth=None, max_features=None, n_estimators=500; total time= 2.6min\n",
      "[CV 3/5] END max_depth=None, max_features=None, n_estimators=500; total time= 2.8min\n",
      "[CV 4/5] END max_depth=None, max_features=None, n_estimators=500; total time= 2.7min\n",
      "[CV 5/5] END max_depth=None, max_features=None, n_estimators=500; total time= 2.8min\n"
     ]
    },
    {
     "data": {
      "text/plain": [
       "GridSearchCV(estimator=RandomForestClassifier(),\n",
       "             param_grid={'max_depth': [2, 3, 4, 5, 7, 10, None],\n",
       "                         'max_features': ['auto', 'sqrt', 0.3333333333333333,\n",
       "                                          None],\n",
       "                         'n_estimators': [10, 30, 50, 100, 500]},\n",
       "             verbose=3)"
      ]
     },
     "execution_count": 34,
     "metadata": {},
     "output_type": "execute_result"
    }
   ],
   "source": [
    "grid_rfc.fit(X_train_scaled, target_train)"
   ]
  },
  {
   "cell_type": "code",
   "execution_count": 35,
   "metadata": {},
   "outputs": [
    {
     "data": {
      "text/plain": [
       "0.5446633825944172"
      ]
     },
     "execution_count": 35,
     "metadata": {},
     "output_type": "execute_result"
    }
   ],
   "source": [
    "grid_rfc.best_score_"
   ]
  },
  {
   "cell_type": "code",
   "execution_count": null,
   "metadata": {},
   "outputs": [],
   "source": []
  }
 ],
 "metadata": {
  "kernelspec": {
   "display_name": "Python 3",
   "language": "python",
   "name": "python3"
  },
  "language_info": {
   "codemirror_mode": {
    "name": "ipython",
    "version": 3
   },
   "file_extension": ".py",
   "mimetype": "text/x-python",
   "name": "python",
   "nbconvert_exporter": "python",
   "pygments_lexer": "ipython3",
   "version": "3.8.8"
  }
 },
 "nbformat": 4,
 "nbformat_minor": 4
}
